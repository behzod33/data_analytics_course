{
 "cells": [
  {
   "cell_type": "markdown",
   "id": "016b0e80",
   "metadata": {},
   "source": [
    "# Домашнее задание №1 по plotly\n",
    "**Исполнитель:**  Behzod Jumaev\n"
   ]
  },
  {
   "cell_type": "code",
   "execution_count": 32,
   "id": "e4895db7-db7c-47ae-9a02-b246af74fc42",
   "metadata": {},
   "outputs": [],
   "source": [
    "import numpy as np\n",
    "import pandas as pd\n",
    "import psycopg2\n",
    "from connector import connect_to\n",
    "from sqlalchemy import text\n",
    "import plotly\n",
    "import plotly.express as px"
   ]
  },
  {
   "cell_type": "markdown",
   "id": "8627f452",
   "metadata": {},
   "source": [
    "## Задача 1\n",
    "На основе данных из таблицы *track* создайте столбчатую диаграмму, показывающую общую сумму минут (длительность треков) в разбивке по жанрам.\n"
   ]
  },
  {
   "cell_type": "code",
   "execution_count": 33,
   "id": "530a6a35-3a7d-4432-993d-3c0120a274fb",
   "metadata": {},
   "outputs": [],
   "source": [
    "query = \"\"\"\n",
    "SELECT genre.name AS genre, SUM(track.milliseconds) / 60000 AS total_minutes\n",
    "FROM track\n",
    "JOIN genre ON track.genre_id = genre.genre_id\n",
    "GROUP BY genre.name\n",
    "ORDER BY total_minutes DESC\n",
    "\"\"\""
   ]
  },
  {
   "cell_type": "code",
   "execution_count": 34,
   "id": "2615db2f-087a-4bf8-bb0b-c371ead60576",
   "metadata": {},
   "outputs": [
    {
     "data": {
      "application/vnd.plotly.v1+json": {
       "config": {
        "plotlyServerURL": "https://plot.ly"
       },
       "data": [
        {
         "alignmentgroup": "True",
         "hovertemplate": "genre=%{x}<br>total_minutes=%{y}<extra></extra>",
         "legendgroup": "",
         "marker": {
          "color": "#636efa",
          "pattern": {
           "shape": ""
          }
         },
         "name": "",
         "offsetgroup": "",
         "orientation": "v",
         "showlegend": false,
         "textposition": "auto",
         "type": "bar",
         "x": [
          "Rock",
          "TV Shows",
          "Drama",
          "Latin",
          "Metal",
          "Alternative & Punk",
          "Sci Fi & Fantasy",
          "Jazz",
          "Science Fiction",
          "Comedy",
          "Blues",
          "Classical",
          "Reggae",
          "R&B/Soul",
          "Pop",
          "Alternative",
          "Soundtrack",
          "Electronica/Dance",
          "Heavy Metal",
          "World",
          "Hip Hop/Rap",
          "Easy Listening",
          "Bossa Nova",
          "Rock And Roll",
          "Opera"
         ],
         "xaxis": "x",
         "y": [
          6137,
          3324,
          2746,
          2247,
          1930,
          1296,
          1261,
          632,
          568,
          449,
          364,
          362,
          238,
          223,
          183,
          176,
          175,
          151,
          138,
          104,
          103,
          75,
          54,
          26,
          2
         ],
         "yaxis": "y"
        }
       ],
       "layout": {
        "barmode": "relative",
        "legend": {
         "tracegroupgap": 0
        },
        "template": {
         "data": {
          "bar": [
           {
            "error_x": {
             "color": "#2a3f5f"
            },
            "error_y": {
             "color": "#2a3f5f"
            },
            "marker": {
             "line": {
              "color": "#E5ECF6",
              "width": 0.5
             },
             "pattern": {
              "fillmode": "overlay",
              "size": 10,
              "solidity": 0.2
             }
            },
            "type": "bar"
           }
          ],
          "barpolar": [
           {
            "marker": {
             "line": {
              "color": "#E5ECF6",
              "width": 0.5
             },
             "pattern": {
              "fillmode": "overlay",
              "size": 10,
              "solidity": 0.2
             }
            },
            "type": "barpolar"
           }
          ],
          "carpet": [
           {
            "aaxis": {
             "endlinecolor": "#2a3f5f",
             "gridcolor": "white",
             "linecolor": "white",
             "minorgridcolor": "white",
             "startlinecolor": "#2a3f5f"
            },
            "baxis": {
             "endlinecolor": "#2a3f5f",
             "gridcolor": "white",
             "linecolor": "white",
             "minorgridcolor": "white",
             "startlinecolor": "#2a3f5f"
            },
            "type": "carpet"
           }
          ],
          "choropleth": [
           {
            "colorbar": {
             "outlinewidth": 0,
             "ticks": ""
            },
            "type": "choropleth"
           }
          ],
          "contour": [
           {
            "colorbar": {
             "outlinewidth": 0,
             "ticks": ""
            },
            "colorscale": [
             [
              0,
              "#0d0887"
             ],
             [
              0.1111111111111111,
              "#46039f"
             ],
             [
              0.2222222222222222,
              "#7201a8"
             ],
             [
              0.3333333333333333,
              "#9c179e"
             ],
             [
              0.4444444444444444,
              "#bd3786"
             ],
             [
              0.5555555555555556,
              "#d8576b"
             ],
             [
              0.6666666666666666,
              "#ed7953"
             ],
             [
              0.7777777777777778,
              "#fb9f3a"
             ],
             [
              0.8888888888888888,
              "#fdca26"
             ],
             [
              1,
              "#f0f921"
             ]
            ],
            "type": "contour"
           }
          ],
          "contourcarpet": [
           {
            "colorbar": {
             "outlinewidth": 0,
             "ticks": ""
            },
            "type": "contourcarpet"
           }
          ],
          "heatmap": [
           {
            "colorbar": {
             "outlinewidth": 0,
             "ticks": ""
            },
            "colorscale": [
             [
              0,
              "#0d0887"
             ],
             [
              0.1111111111111111,
              "#46039f"
             ],
             [
              0.2222222222222222,
              "#7201a8"
             ],
             [
              0.3333333333333333,
              "#9c179e"
             ],
             [
              0.4444444444444444,
              "#bd3786"
             ],
             [
              0.5555555555555556,
              "#d8576b"
             ],
             [
              0.6666666666666666,
              "#ed7953"
             ],
             [
              0.7777777777777778,
              "#fb9f3a"
             ],
             [
              0.8888888888888888,
              "#fdca26"
             ],
             [
              1,
              "#f0f921"
             ]
            ],
            "type": "heatmap"
           }
          ],
          "heatmapgl": [
           {
            "colorbar": {
             "outlinewidth": 0,
             "ticks": ""
            },
            "colorscale": [
             [
              0,
              "#0d0887"
             ],
             [
              0.1111111111111111,
              "#46039f"
             ],
             [
              0.2222222222222222,
              "#7201a8"
             ],
             [
              0.3333333333333333,
              "#9c179e"
             ],
             [
              0.4444444444444444,
              "#bd3786"
             ],
             [
              0.5555555555555556,
              "#d8576b"
             ],
             [
              0.6666666666666666,
              "#ed7953"
             ],
             [
              0.7777777777777778,
              "#fb9f3a"
             ],
             [
              0.8888888888888888,
              "#fdca26"
             ],
             [
              1,
              "#f0f921"
             ]
            ],
            "type": "heatmapgl"
           }
          ],
          "histogram": [
           {
            "marker": {
             "pattern": {
              "fillmode": "overlay",
              "size": 10,
              "solidity": 0.2
             }
            },
            "type": "histogram"
           }
          ],
          "histogram2d": [
           {
            "colorbar": {
             "outlinewidth": 0,
             "ticks": ""
            },
            "colorscale": [
             [
              0,
              "#0d0887"
             ],
             [
              0.1111111111111111,
              "#46039f"
             ],
             [
              0.2222222222222222,
              "#7201a8"
             ],
             [
              0.3333333333333333,
              "#9c179e"
             ],
             [
              0.4444444444444444,
              "#bd3786"
             ],
             [
              0.5555555555555556,
              "#d8576b"
             ],
             [
              0.6666666666666666,
              "#ed7953"
             ],
             [
              0.7777777777777778,
              "#fb9f3a"
             ],
             [
              0.8888888888888888,
              "#fdca26"
             ],
             [
              1,
              "#f0f921"
             ]
            ],
            "type": "histogram2d"
           }
          ],
          "histogram2dcontour": [
           {
            "colorbar": {
             "outlinewidth": 0,
             "ticks": ""
            },
            "colorscale": [
             [
              0,
              "#0d0887"
             ],
             [
              0.1111111111111111,
              "#46039f"
             ],
             [
              0.2222222222222222,
              "#7201a8"
             ],
             [
              0.3333333333333333,
              "#9c179e"
             ],
             [
              0.4444444444444444,
              "#bd3786"
             ],
             [
              0.5555555555555556,
              "#d8576b"
             ],
             [
              0.6666666666666666,
              "#ed7953"
             ],
             [
              0.7777777777777778,
              "#fb9f3a"
             ],
             [
              0.8888888888888888,
              "#fdca26"
             ],
             [
              1,
              "#f0f921"
             ]
            ],
            "type": "histogram2dcontour"
           }
          ],
          "mesh3d": [
           {
            "colorbar": {
             "outlinewidth": 0,
             "ticks": ""
            },
            "type": "mesh3d"
           }
          ],
          "parcoords": [
           {
            "line": {
             "colorbar": {
              "outlinewidth": 0,
              "ticks": ""
             }
            },
            "type": "parcoords"
           }
          ],
          "pie": [
           {
            "automargin": true,
            "type": "pie"
           }
          ],
          "scatter": [
           {
            "fillpattern": {
             "fillmode": "overlay",
             "size": 10,
             "solidity": 0.2
            },
            "type": "scatter"
           }
          ],
          "scatter3d": [
           {
            "line": {
             "colorbar": {
              "outlinewidth": 0,
              "ticks": ""
             }
            },
            "marker": {
             "colorbar": {
              "outlinewidth": 0,
              "ticks": ""
             }
            },
            "type": "scatter3d"
           }
          ],
          "scattercarpet": [
           {
            "marker": {
             "colorbar": {
              "outlinewidth": 0,
              "ticks": ""
             }
            },
            "type": "scattercarpet"
           }
          ],
          "scattergeo": [
           {
            "marker": {
             "colorbar": {
              "outlinewidth": 0,
              "ticks": ""
             }
            },
            "type": "scattergeo"
           }
          ],
          "scattergl": [
           {
            "marker": {
             "colorbar": {
              "outlinewidth": 0,
              "ticks": ""
             }
            },
            "type": "scattergl"
           }
          ],
          "scattermapbox": [
           {
            "marker": {
             "colorbar": {
              "outlinewidth": 0,
              "ticks": ""
             }
            },
            "type": "scattermapbox"
           }
          ],
          "scatterpolar": [
           {
            "marker": {
             "colorbar": {
              "outlinewidth": 0,
              "ticks": ""
             }
            },
            "type": "scatterpolar"
           }
          ],
          "scatterpolargl": [
           {
            "marker": {
             "colorbar": {
              "outlinewidth": 0,
              "ticks": ""
             }
            },
            "type": "scatterpolargl"
           }
          ],
          "scatterternary": [
           {
            "marker": {
             "colorbar": {
              "outlinewidth": 0,
              "ticks": ""
             }
            },
            "type": "scatterternary"
           }
          ],
          "surface": [
           {
            "colorbar": {
             "outlinewidth": 0,
             "ticks": ""
            },
            "colorscale": [
             [
              0,
              "#0d0887"
             ],
             [
              0.1111111111111111,
              "#46039f"
             ],
             [
              0.2222222222222222,
              "#7201a8"
             ],
             [
              0.3333333333333333,
              "#9c179e"
             ],
             [
              0.4444444444444444,
              "#bd3786"
             ],
             [
              0.5555555555555556,
              "#d8576b"
             ],
             [
              0.6666666666666666,
              "#ed7953"
             ],
             [
              0.7777777777777778,
              "#fb9f3a"
             ],
             [
              0.8888888888888888,
              "#fdca26"
             ],
             [
              1,
              "#f0f921"
             ]
            ],
            "type": "surface"
           }
          ],
          "table": [
           {
            "cells": {
             "fill": {
              "color": "#EBF0F8"
             },
             "line": {
              "color": "white"
             }
            },
            "header": {
             "fill": {
              "color": "#C8D4E3"
             },
             "line": {
              "color": "white"
             }
            },
            "type": "table"
           }
          ]
         },
         "layout": {
          "annotationdefaults": {
           "arrowcolor": "#2a3f5f",
           "arrowhead": 0,
           "arrowwidth": 1
          },
          "autotypenumbers": "strict",
          "coloraxis": {
           "colorbar": {
            "outlinewidth": 0,
            "ticks": ""
           }
          },
          "colorscale": {
           "diverging": [
            [
             0,
             "#8e0152"
            ],
            [
             0.1,
             "#c51b7d"
            ],
            [
             0.2,
             "#de77ae"
            ],
            [
             0.3,
             "#f1b6da"
            ],
            [
             0.4,
             "#fde0ef"
            ],
            [
             0.5,
             "#f7f7f7"
            ],
            [
             0.6,
             "#e6f5d0"
            ],
            [
             0.7,
             "#b8e186"
            ],
            [
             0.8,
             "#7fbc41"
            ],
            [
             0.9,
             "#4d9221"
            ],
            [
             1,
             "#276419"
            ]
           ],
           "sequential": [
            [
             0,
             "#0d0887"
            ],
            [
             0.1111111111111111,
             "#46039f"
            ],
            [
             0.2222222222222222,
             "#7201a8"
            ],
            [
             0.3333333333333333,
             "#9c179e"
            ],
            [
             0.4444444444444444,
             "#bd3786"
            ],
            [
             0.5555555555555556,
             "#d8576b"
            ],
            [
             0.6666666666666666,
             "#ed7953"
            ],
            [
             0.7777777777777778,
             "#fb9f3a"
            ],
            [
             0.8888888888888888,
             "#fdca26"
            ],
            [
             1,
             "#f0f921"
            ]
           ],
           "sequentialminus": [
            [
             0,
             "#0d0887"
            ],
            [
             0.1111111111111111,
             "#46039f"
            ],
            [
             0.2222222222222222,
             "#7201a8"
            ],
            [
             0.3333333333333333,
             "#9c179e"
            ],
            [
             0.4444444444444444,
             "#bd3786"
            ],
            [
             0.5555555555555556,
             "#d8576b"
            ],
            [
             0.6666666666666666,
             "#ed7953"
            ],
            [
             0.7777777777777778,
             "#fb9f3a"
            ],
            [
             0.8888888888888888,
             "#fdca26"
            ],
            [
             1,
             "#f0f921"
            ]
           ]
          },
          "colorway": [
           "#636efa",
           "#EF553B",
           "#00cc96",
           "#ab63fa",
           "#FFA15A",
           "#19d3f3",
           "#FF6692",
           "#B6E880",
           "#FF97FF",
           "#FECB52"
          ],
          "font": {
           "color": "#2a3f5f"
          },
          "geo": {
           "bgcolor": "white",
           "lakecolor": "white",
           "landcolor": "#E5ECF6",
           "showlakes": true,
           "showland": true,
           "subunitcolor": "white"
          },
          "hoverlabel": {
           "align": "left"
          },
          "hovermode": "closest",
          "mapbox": {
           "style": "light"
          },
          "paper_bgcolor": "white",
          "plot_bgcolor": "#E5ECF6",
          "polar": {
           "angularaxis": {
            "gridcolor": "white",
            "linecolor": "white",
            "ticks": ""
           },
           "bgcolor": "#E5ECF6",
           "radialaxis": {
            "gridcolor": "white",
            "linecolor": "white",
            "ticks": ""
           }
          },
          "scene": {
           "xaxis": {
            "backgroundcolor": "#E5ECF6",
            "gridcolor": "white",
            "gridwidth": 2,
            "linecolor": "white",
            "showbackground": true,
            "ticks": "",
            "zerolinecolor": "white"
           },
           "yaxis": {
            "backgroundcolor": "#E5ECF6",
            "gridcolor": "white",
            "gridwidth": 2,
            "linecolor": "white",
            "showbackground": true,
            "ticks": "",
            "zerolinecolor": "white"
           },
           "zaxis": {
            "backgroundcolor": "#E5ECF6",
            "gridcolor": "white",
            "gridwidth": 2,
            "linecolor": "white",
            "showbackground": true,
            "ticks": "",
            "zerolinecolor": "white"
           }
          },
          "shapedefaults": {
           "line": {
            "color": "#2a3f5f"
           }
          },
          "ternary": {
           "aaxis": {
            "gridcolor": "white",
            "linecolor": "white",
            "ticks": ""
           },
           "baxis": {
            "gridcolor": "white",
            "linecolor": "white",
            "ticks": ""
           },
           "bgcolor": "#E5ECF6",
           "caxis": {
            "gridcolor": "white",
            "linecolor": "white",
            "ticks": ""
           }
          },
          "title": {
           "x": 0.05
          },
          "xaxis": {
           "automargin": true,
           "gridcolor": "white",
           "linecolor": "white",
           "ticks": "",
           "title": {
            "standoff": 15
           },
           "zerolinecolor": "white",
           "zerolinewidth": 2
          },
          "yaxis": {
           "automargin": true,
           "gridcolor": "white",
           "linecolor": "white",
           "ticks": "",
           "title": {
            "standoff": 15
           },
           "zerolinecolor": "white",
           "zerolinewidth": 2
          }
         }
        },
        "title": {
         "text": "Общая длительность треков по жанрам (в минутах)"
        },
        "xaxis": {
         "anchor": "y",
         "domain": [
          0,
          1
         ],
         "title": {
          "text": "genre"
         }
        },
        "yaxis": {
         "anchor": "x",
         "domain": [
          0,
          1
         ],
         "title": {
          "text": "total_minutes"
         }
        }
       }
      }
     },
     "metadata": {},
     "output_type": "display_data"
    }
   ],
   "source": [
    "with connect_to('postgres') as pg:\n",
    "    df = pd.read_sql(query, pg)\n",
    "    fig = px.bar(df, x='genre', y='total_minutes',\\\n",
    "                  title='Общая длительность треков по жанрам (в минутах)')\n",
    "    fig.show()"
   ]
  },
  {
   "cell_type": "markdown",
   "id": "d3d80c69-d217-4cc2-bca5-c4c813949bc4",
   "metadata": {},
   "source": [
    "## Задача 2\n",
    "На основе данных из таблицы *track* создайте диаграмму рассеивания, показывающую соотношение минут и мегабайтов.\n"
   ]
  },
  {
   "cell_type": "code",
   "execution_count": 35,
   "id": "3e903442",
   "metadata": {},
   "outputs": [],
   "source": [
    "query = \"\"\"\n",
    "SELECT track.milliseconds / 60000 AS minutes, track.bytes / 1048576 AS megabytes\n",
    "FROM track\n",
    "\"\"\""
   ]
  },
  {
   "cell_type": "code",
   "execution_count": 36,
   "id": "9329f41c-30f5-4042-b09e-af308dff2867",
   "metadata": {},
   "outputs": [
    {
     "data": {
      "application/vnd.plotly.v1+json": {
       "config": {
        "plotlyServerURL": "https://plot.ly"
       },
       "data": [
        {
         "hovertemplate": "minutes=%{x}<br>megabytes=%{y}<extra></extra>",
         "legendgroup": "",
         "marker": {
          "color": "#636efa",
          "symbol": "circle"
         },
         "mode": "markers",
         "name": "",
         "showlegend": false,
         "type": "scattergl",
         "x": [
          5,
          5,
          3,
          4,
          6,
          3,
          3,
          3,
          3,
          4,
          3,
          4,
          3,
          4,
          5,
          3,
          6,
          4,
          5,
          6,
          4,
          5,
          4,
          5,
          4,
          5,
          4,
          5,
          5,
          5,
          4,
          3,
          4,
          5,
          4,
          5,
          6,
          4,
          4,
          3,
          3,
          2,
          5,
          3,
          4,
          4,
          3,
          3,
          4,
          8,
          2,
          4,
          5,
          4,
          3,
          6,
          4,
          4,
          3,
          5,
          4,
          4,
          3,
          4,
          2,
          2,
          4,
          2,
          4,
          2,
          3,
          2,
          3,
          2,
          6,
          4,
          3,
          7,
          6,
          5,
          4,
          5,
          6,
          5,
          3,
          4,
          4,
          4,
          4,
          4,
          5,
          5,
          3,
          3,
          5,
          5,
          4,
          5,
          4,
          4,
          4,
          4,
          3,
          4,
          3,
          3,
          4,
          4,
          4,
          5,
          2,
          1,
          1,
          2,
          2,
          2,
          2,
          2,
          2,
          2,
          1,
          1,
          4,
          7,
          4,
          4,
          9,
          5,
          4,
          4,
          5,
          4,
          5,
          3,
          5,
          4,
          4,
          4,
          4,
          4,
          5,
          9,
          6,
          3,
          7,
          4,
          4,
          4,
          6,
          4,
          3,
          6,
          3,
          10,
          3,
          8,
          4,
          3,
          4,
          1,
          4,
          5,
          3,
          2,
          2,
          5,
          0,
          3,
          0,
          5,
          0,
          3,
          0,
          2,
          1,
          5,
          6,
          5,
          0,
          3,
          2,
          6,
          4,
          4,
          4,
          4,
          4,
          8,
          4,
          6,
          5,
          5,
          8,
          3,
          2,
          2,
          7,
          3,
          3,
          3,
          2,
          2,
          3,
          2,
          9,
          2,
          1,
          2,
          8,
          3,
          1,
          2,
          2,
          2,
          3,
          3,
          3,
          4,
          4,
          2,
          4,
          5,
          4,
          7,
          3,
          5,
          2,
          2,
          6,
          2,
          4,
          3,
          2,
          2,
          3,
          3,
          2,
          3,
          2,
          3,
          5,
          2,
          2,
          2,
          6,
          0,
          3,
          2,
          2,
          4,
          4,
          3,
          4,
          1,
          3,
          4,
          3,
          2,
          2,
          2,
          1,
          1,
          3,
          2,
          4,
          4,
          3,
          3,
          5,
          4,
          4,
          3,
          3,
          4,
          4,
          1,
          3,
          4,
          1,
          3,
          6,
          4,
          3,
          4,
          3,
          3,
          5,
          3,
          3,
          4,
          3,
          3,
          4,
          2,
          4,
          3,
          3,
          3,
          4,
          3,
          4,
          4,
          4,
          3,
          3,
          4,
          2,
          4,
          3,
          4,
          4,
          3,
          5,
          4,
          4,
          4,
          4,
          4,
          3,
          4,
          4,
          3,
          3,
          3,
          3,
          3,
          3,
          3,
          3,
          3,
          3,
          3,
          3,
          3,
          3,
          2,
          5,
          4,
          3,
          6,
          3,
          4,
          2,
          5,
          6,
          2,
          3,
          6,
          10,
          11,
          3,
          5,
          2,
          3,
          4,
          2,
          11,
          1,
          5,
          4,
          4,
          4,
          4,
          4,
          4,
          4,
          4,
          4,
          4,
          4,
          4,
          4,
          4,
          4,
          4,
          3,
          4,
          4,
          2,
          4,
          2,
          4,
          3,
          3,
          2,
          3,
          4,
          3,
          2,
          3,
          4,
          3,
          5,
          2,
          2,
          3,
          4,
          6,
          4,
          2,
          4,
          3,
          4,
          3,
          2,
          3,
          6,
          2,
          3,
          6,
          6,
          2,
          7,
          11,
          6,
          5,
          9,
          4,
          4,
          3,
          5,
          4,
          4,
          6,
          4,
          4,
          4,
          4,
          4,
          4,
          3,
          3,
          4,
          4,
          4,
          3,
          5,
          3,
          4,
          3,
          3,
          3,
          3,
          3,
          4,
          4,
          3,
          4,
          3,
          2,
          3,
          2,
          4,
          3,
          5,
          4,
          5,
          4,
          4,
          4,
          4,
          4,
          5,
          5,
          4,
          4,
          4,
          2,
          2,
          3,
          3,
          3,
          2,
          2,
          2,
          2,
          3,
          1,
          2,
          2,
          2,
          2,
          3,
          2,
          2,
          3,
          3,
          3,
          1,
          7,
          4,
          5,
          5,
          4,
          4,
          6,
          4,
          5,
          4,
          3,
          3,
          3,
          3,
          4,
          2,
          4,
          4,
          2,
          3,
          3,
          3,
          3,
          3,
          3,
          3,
          4,
          3,
          4,
          7,
          6,
          2,
          3,
          3,
          4,
          3,
          5,
          6,
          2,
          4,
          4,
          2,
          2,
          8,
          2,
          4,
          3,
          3,
          2,
          3,
          3,
          3,
          6,
          7,
          4,
          5,
          3,
          12,
          10,
          13,
          4,
          5,
          11,
          4,
          5,
          8,
          5,
          5,
          5,
          4,
          5,
          5,
          4,
          5,
          5,
          5,
          5,
          4,
          5,
          4,
          5,
          5,
          4,
          4,
          4,
          5,
          4,
          5,
          4,
          4,
          4,
          6,
          12,
          4,
          3,
          4,
          3,
          4,
          3,
          3,
          3,
          3,
          4,
          4,
          5,
          3,
          3,
          3,
          3,
          5,
          3,
          13,
          5,
          7,
          4,
          2,
          3,
          9,
          3,
          9,
          15,
          5,
          7,
          8,
          14,
          3,
          5,
          4,
          3,
          6,
          19,
          15,
          14,
          12,
          3,
          5,
          3,
          3,
          3,
          2,
          3,
          3,
          3,
          2,
          3,
          3,
          2,
          2,
          4,
          4,
          3,
          4,
          3,
          3,
          3,
          3,
          6,
          6,
          2,
          2,
          3,
          3,
          2,
          3,
          4,
          2,
          3,
          2,
          3,
          3,
          2,
          3,
          2,
          4,
          2,
          4,
          4,
          4,
          3,
          3,
          4,
          1,
          2,
          2,
          2,
          4,
          4,
          3,
          2,
          3,
          2,
          2,
          2,
          2,
          2,
          2,
          2,
          3,
          2,
          3,
          11,
          2,
          2,
          2,
          3,
          4,
          4,
          5,
          2,
          3,
          4,
          3,
          2,
          2,
          2,
          4,
          3,
          2,
          6,
          3,
          3,
          2,
          5,
          3,
          2,
          3,
          4,
          4,
          3,
          3,
          3,
          3,
          4,
          4,
          3,
          3,
          3,
          2,
          4,
          4,
          4,
          4,
          5,
          3,
          3,
          2,
          3,
          3,
          4,
          3,
          4,
          4,
          3,
          4,
          3,
          3,
          2,
          3,
          3,
          4,
          4,
          3,
          6,
          5,
          4,
          4,
          10,
          7,
          3,
          4,
          7,
          3,
          6,
          4,
          4,
          5,
          8,
          6,
          7,
          5,
          10,
          4,
          6,
          5,
          4,
          4,
          3,
          7,
          5,
          6,
          4,
          5,
          3,
          5,
          7,
          4,
          4,
          5,
          4,
          7,
          4,
          5,
          5,
          5,
          4,
          5,
          5,
          4,
          4,
          5,
          5,
          4,
          5,
          5,
          3,
          5,
          4,
          6,
          4,
          4,
          4,
          5,
          3,
          3,
          4,
          4,
          3,
          5,
          4,
          6,
          4,
          5,
          5,
          4,
          4,
          4,
          4,
          4,
          4,
          5,
          4,
          4,
          4,
          3,
          4,
          4,
          3,
          4,
          5,
          5,
          4,
          5,
          4,
          5,
          7,
          5,
          6,
          6,
          4,
          10,
          5,
          6,
          4,
          4,
          5,
          5,
          3,
          4,
          3,
          4,
          4,
          5,
          4,
          4,
          5,
          5,
          5,
          3,
          4,
          4,
          3,
          3,
          4,
          4,
          5,
          4,
          4,
          3,
          3,
          2,
          4,
          2,
          4,
          4,
          3,
          3,
          4,
          4,
          2,
          3,
          4,
          7,
          2,
          2,
          4,
          4,
          2,
          5,
          5,
          3,
          4,
          3,
          3,
          3,
          4,
          3,
          4,
          3,
          4,
          3,
          3,
          3,
          4,
          5,
          3,
          4,
          6,
          3,
          3,
          3,
          3,
          7,
          4,
          3,
          4,
          4,
          2,
          5,
          3,
          3,
          3,
          2,
          4,
          1,
          3,
          3,
          4,
          4,
          3,
          5,
          4,
          4,
          4,
          3,
          4,
          4,
          6,
          4,
          3,
          2,
          4,
          4,
          3,
          3,
          3,
          4,
          3,
          3,
          4,
          6,
          2,
          4,
          5,
          3,
          3,
          4,
          5,
          2,
          6,
          8,
          3,
          3,
          5,
          7,
          4,
          0,
          3,
          4,
          3,
          3,
          2,
          2,
          5,
          1,
          3,
          3,
          4,
          3,
          2,
          3,
          3,
          4,
          4,
          1,
          3,
          4,
          4,
          3,
          5,
          5,
          5,
          3,
          4,
          3,
          5,
          4,
          3,
          3,
          4,
          4,
          4,
          4,
          4,
          4,
          5,
          5,
          4,
          4,
          4,
          7,
          1,
          3,
          4,
          3,
          2,
          2,
          4,
          2,
          2,
          4,
          4,
          5,
          5,
          4,
          2,
          3,
          3,
          2,
          3,
          2,
          2,
          2,
          1,
          2,
          3,
          2,
          3,
          2,
          4,
          3,
          3,
          3,
          3,
          2,
          4,
          3,
          3,
          2,
          3,
          3,
          3,
          5,
          5,
          4,
          3,
          5,
          5,
          4,
          3,
          8,
          3,
          1,
          4,
          3,
          4,
          4,
          3,
          3,
          3,
          3,
          3,
          3,
          4,
          2,
          3,
          4,
          0,
          2,
          3,
          4,
          4,
          3,
          4,
          5,
          4,
          4,
          3,
          4,
          4,
          5,
          3,
          3,
          5,
          4,
          4,
          5,
          4,
          3,
          4,
          5,
          5,
          4,
          4,
          3,
          4,
          5,
          4,
          4,
          4,
          4,
          3,
          4,
          3,
          4,
          4,
          4,
          4,
          4,
          4,
          4,
          3,
          1,
          4,
          2,
          9,
          3,
          4,
          2,
          2,
          3,
          2,
          3,
          4,
          4,
          9,
          4,
          4,
          3,
          4,
          4,
          3,
          6,
          3,
          3,
          5,
          3,
          3,
          6,
          3,
          4,
          3,
          4,
          2,
          2,
          5,
          5,
          3,
          8,
          5,
          2,
          5,
          4,
          4,
          10,
          7,
          4,
          3,
          5,
          5,
          3,
          7,
          4,
          8,
          4,
          9,
          5,
          4,
          1,
          6,
          4,
          5,
          6,
          4,
          5,
          4,
          4,
          6,
          5,
          6,
          8,
          6,
          4,
          6,
          8,
          5,
          7,
          5,
          7,
          9,
          7,
          9,
          7,
          4,
          3,
          4,
          4,
          5,
          4,
          4,
          3,
          3,
          5,
          5,
          7,
          3,
          4,
          4,
          5,
          4,
          5,
          6,
          5,
          7,
          4,
          7,
          4,
          6,
          6,
          7,
          4,
          9,
          4,
          9,
          6,
          8,
          3,
          3,
          7,
          5,
          8,
          5,
          5,
          8,
          6,
          6,
          7,
          3,
          3,
          6,
          5,
          4,
          5,
          4,
          3,
          3,
          3,
          5,
          7,
          3,
          3,
          5,
          3,
          7,
          4,
          5,
          4,
          3,
          1,
          2,
          4,
          3,
          3,
          3,
          5,
          6,
          3,
          4,
          0,
          4,
          6,
          4,
          6,
          3,
          13,
          7,
          4,
          7,
          4,
          3,
          3,
          3,
          6,
          4,
          5,
          7,
          3,
          4,
          2,
          4,
          3,
          5,
          4,
          7,
          6,
          7,
          6,
          4,
          7,
          3,
          5,
          8,
          7,
          3,
          5,
          7,
          4,
          3,
          4,
          4,
          4,
          4,
          4,
          4,
          4,
          5,
          6,
          6,
          3,
          5,
          4,
          4,
          3,
          3,
          7,
          4,
          5,
          4,
          4,
          6,
          5,
          6,
          13,
          1,
          4,
          6,
          6,
          3,
          6,
          7,
          10,
          4,
          4,
          9,
          9,
          4,
          7,
          5,
          5,
          7,
          5,
          4,
          5,
          6,
          3,
          4,
          9,
          5,
          4,
          4,
          7,
          5,
          5,
          7,
          5,
          8,
          4,
          6,
          6,
          4,
          3,
          7,
          3,
          3,
          4,
          6,
          11,
          5,
          4,
          7,
          5,
          6,
          5,
          5,
          6,
          5,
          8,
          2,
          9,
          4,
          8,
          6,
          6,
          8,
          5,
          2,
          2,
          3,
          2,
          2,
          2,
          2,
          2,
          2,
          5,
          3,
          3,
          3,
          3,
          4,
          3,
          4,
          5,
          3,
          4,
          3,
          6,
          4,
          4,
          6,
          4,
          4,
          8,
          10,
          2,
          5,
          4,
          5,
          4,
          3,
          5,
          5,
          4,
          5,
          3,
          4,
          8,
          4,
          4,
          5,
          6,
          5,
          5,
          7,
          5,
          6,
          6,
          1,
          3,
          3,
          3,
          4,
          4,
          4,
          2,
          4,
          4,
          2,
          4,
          4,
          3,
          3,
          3,
          2,
          3,
          3,
          3,
          2,
          6,
          2,
          4,
          3,
          3,
          2,
          3,
          3,
          3,
          4,
          3,
          5,
          3,
          3,
          1,
          3,
          4,
          1,
          5,
          5,
          5,
          4,
          5,
          5,
          7,
          6,
          6,
          5,
          3,
          5,
          6,
          3,
          4,
          4,
          4,
          5,
          4,
          4,
          4,
          3,
          3,
          4,
          2,
          4,
          5,
          4,
          3,
          3,
          3,
          4,
          4,
          4,
          4,
          3,
          1,
          3,
          3,
          3,
          3,
          3,
          3,
          2,
          3,
          4,
          0,
          3,
          5,
          5,
          4,
          4,
          4,
          4,
          3,
          7,
          4,
          2,
          3,
          3,
          3,
          3,
          4,
          2,
          3,
          2,
          6,
          4,
          5,
          2,
          3,
          4,
          3,
          5,
          6,
          5,
          18,
          8,
          3,
          5,
          13,
          6,
          2,
          3,
          4,
          4,
          3,
          5,
          4,
          5,
          5,
          7,
          4,
          3,
          3,
          4,
          7,
          4,
          6,
          4,
          6,
          3,
          10,
          5,
          5,
          4,
          3,
          5,
          8,
          4,
          4,
          3,
          7,
          2,
          6,
          6,
          6,
          4,
          2,
          2,
          4,
          8,
          5,
          4,
          6,
          4,
          4,
          2,
          4,
          4,
          4,
          2,
          3,
          3,
          7,
          4,
          4,
          3,
          5,
          4,
          3,
          8,
          2,
          5,
          6,
          3,
          4,
          3,
          4,
          4,
          10,
          6,
          2,
          6,
          4,
          4,
          9,
          4,
          3,
          5,
          8,
          26,
          12,
          10,
          12,
          14,
          3,
          4,
          4,
          4,
          4,
          4,
          5,
          4,
          5,
          3,
          5,
          4,
          4,
          2,
          4,
          2,
          3,
          2,
          4,
          5,
          4,
          2,
          9,
          3,
          5,
          3,
          6,
          4,
          3,
          5,
          3,
          3,
          3,
          3,
          3,
          4,
          4,
          3,
          4,
          4,
          3,
          3,
          4,
          4,
          5,
          4,
          3,
          4,
          3,
          3,
          4,
          5,
          4,
          3,
          3,
          3,
          3,
          3,
          5,
          3,
          4,
          4,
          2,
          3,
          2,
          3,
          3,
          4,
          4,
          4,
          4,
          3,
          3,
          3,
          2,
          3,
          2,
          5,
          6,
          2,
          1,
          9,
          4,
          2,
          2,
          3,
          2,
          2,
          3,
          3,
          0,
          3,
          3,
          3,
          4,
          3,
          2,
          3,
          4,
          2,
          2,
          4,
          2,
          2,
          2,
          2,
          2,
          2,
          2,
          3,
          3,
          2,
          3,
          2,
          4,
          3,
          3,
          5,
          3,
          3,
          3,
          3,
          3,
          3,
          6,
          3,
          4,
          4,
          3,
          6,
          5,
          5,
          3,
          6,
          6,
          4,
          4,
          6,
          4,
          5,
          6,
          3,
          6,
          6,
          4,
          3,
          3,
          7,
          3,
          5,
          4,
          2,
          3,
          3,
          4,
          3,
          4,
          3,
          4,
          7,
          3,
          4,
          4,
          4,
          5,
          6,
          6,
          5,
          5,
          5,
          6,
          4,
          5,
          4,
          8,
          4,
          4,
          3,
          5,
          5,
          5,
          9,
          5,
          8,
          6,
          6,
          8,
          5,
          8,
          5,
          4,
          4,
          5,
          6,
          5,
          5,
          6,
          4,
          6,
          6,
          7,
          5,
          8,
          4,
          6,
          5,
          6,
          4,
          4,
          6,
          8,
          5,
          7,
          8,
          5,
          8,
          5,
          7,
          5,
          7,
          5,
          8,
          6,
          9,
          6,
          7,
          6,
          5,
          7,
          9,
          5,
          3,
          3,
          3,
          4,
          3,
          5,
          4,
          2,
          2,
          3,
          3,
          3,
          5,
          3,
          3,
          3,
          3,
          3,
          4,
          4,
          3,
          2,
          3,
          5,
          2,
          5,
          1,
          2,
          4,
          3,
          4,
          4,
          4,
          4,
          4,
          3,
          2,
          2,
          6,
          3,
          2,
          3,
          2,
          3,
          3,
          3,
          2,
          3,
          2,
          1,
          4,
          2,
          2,
          2,
          3,
          3,
          4,
          3,
          3,
          3,
          4,
          3,
          4,
          3,
          4,
          4,
          0,
          4,
          4,
          4,
          4,
          4,
          5,
          4,
          4,
          3,
          4,
          4,
          4,
          3,
          4,
          3,
          4,
          3,
          0,
          2,
          3,
          4,
          4,
          2,
          4,
          1,
          3,
          3,
          4,
          3,
          2,
          2,
          3,
          1,
          3,
          5,
          4,
          3,
          3,
          4,
          2,
          2,
          3,
          2,
          3,
          3,
          3,
          1,
          3,
          3,
          2,
          4,
          3,
          4,
          3,
          4,
          4,
          5,
          5,
          5,
          3,
          3,
          4,
          3,
          3,
          4,
          3,
          4,
          2,
          2,
          3,
          3,
          3,
          3,
          3,
          3,
          4,
          3,
          2,
          3,
          3,
          3,
          4,
          4,
          3,
          3,
          2,
          2,
          3,
          3,
          4,
          3,
          4,
          3,
          4,
          3,
          4,
          3,
          3,
          3,
          2,
          3,
          2,
          3,
          3,
          3,
          3,
          4,
          4,
          3,
          3,
          3,
          5,
          3,
          3,
          3,
          3,
          3,
          2,
          3,
          4,
          4,
          4,
          5,
          2,
          4,
          5,
          4,
          4,
          4,
          7,
          4,
          5,
          5,
          5,
          4,
          5,
          8,
          7,
          2,
          5,
          2,
          5,
          4,
          4,
          4,
          6,
          3,
          6,
          4,
          5,
          3,
          5,
          5,
          5,
          5,
          4,
          5,
          4,
          5,
          6,
          2,
          3,
          5,
          3,
          4,
          3,
          3,
          3,
          3,
          3,
          2,
          5,
          4,
          4,
          3,
          5,
          3,
          3,
          6,
          3,
          5,
          3,
          3,
          6,
          3,
          2,
          2,
          2,
          4,
          5,
          5,
          4,
          3,
          4,
          6,
          6,
          3,
          3,
          2,
          4,
          4,
          3,
          3,
          2,
          4,
          0,
          3,
          5,
          7,
          3,
          3,
          4,
          3,
          3,
          3,
          4,
          4,
          2,
          2,
          3,
          3,
          4,
          1,
          4,
          3,
          4,
          5,
          3,
          5,
          5,
          2,
          3,
          4,
          4,
          9,
          3,
          2,
          3,
          3,
          3,
          5,
          2,
          4,
          4,
          3,
          3,
          5,
          4,
          3,
          4,
          3,
          3,
          4,
          3,
          4,
          5,
          3,
          3,
          5,
          6,
          3,
          3,
          7,
          4,
          6,
          7,
          3,
          3,
          2,
          5,
          2,
          2,
          0,
          2,
          3,
          3,
          2,
          3,
          1,
          3,
          3,
          2,
          3,
          2,
          6,
          5,
          3,
          3,
          3,
          3,
          2,
          3,
          3,
          2,
          4,
          4,
          2,
          3,
          2,
          2,
          2,
          3,
          2,
          3,
          3,
          3,
          4,
          3,
          3,
          3,
          3,
          6,
          3,
          3,
          4,
          4,
          3,
          2,
          3,
          3,
          4,
          3,
          3,
          4,
          3,
          5,
          3,
          4,
          5,
          5,
          5,
          7,
          5,
          7,
          3,
          4,
          5,
          5,
          2,
          4,
          3,
          4,
          4,
          4,
          3,
          3,
          4,
          3,
          3,
          4,
          3,
          4,
          3,
          3,
          3,
          4,
          3,
          3,
          3,
          3,
          2,
          3,
          4,
          3,
          3,
          4,
          2,
          2,
          2,
          2,
          3,
          3,
          4,
          4,
          2,
          2,
          3,
          4,
          2,
          3,
          3,
          2,
          3,
          2,
          2,
          3,
          2,
          4,
          4,
          3,
          4,
          3,
          4,
          5,
          3,
          4,
          4,
          4,
          4,
          4,
          4,
          4,
          4,
          3,
          4,
          8,
          1,
          3,
          4,
          4,
          5,
          4,
          3,
          4,
          3,
          4,
          3,
          3,
          5,
          3,
          3,
          4,
          6,
          3,
          4,
          3,
          4,
          3,
          5,
          3,
          2,
          4,
          2,
          3,
          4,
          4,
          1,
          3,
          4,
          4,
          4,
          5,
          11,
          4,
          8,
          4,
          2,
          4,
          2,
          9,
          3,
          5,
          9,
          11,
          10,
          5,
          3,
          4,
          10,
          14,
          7,
          17,
          1,
          14,
          15,
          10,
          4,
          4,
          4,
          3,
          3,
          3,
          3,
          4,
          3,
          5,
          4,
          4,
          4,
          4,
          4,
          4,
          3,
          4,
          4,
          3,
          4,
          4,
          4,
          5,
          4,
          5,
          4,
          0,
          4,
          4,
          5,
          4,
          4,
          4,
          4,
          3,
          4,
          5,
          3,
          7,
          3,
          3,
          3,
          4,
          3,
          4,
          2,
          3,
          3,
          6,
          4,
          4,
          6,
          4,
          4,
          5,
          4,
          4,
          3,
          3,
          3,
          4,
          4,
          2,
          4,
          4,
          4,
          3,
          4,
          4,
          4,
          3,
          3,
          3,
          4,
          6,
          3,
          5,
          5,
          4,
          4,
          5,
          5,
          4,
          4,
          4,
          5,
          3,
          3,
          3,
          4,
          3,
          4,
          4,
          5,
          4,
          4,
          5,
          2,
          4,
          4,
          2,
          4,
          2,
          5,
          2,
          3,
          8,
          5,
          3,
          4,
          1,
          6,
          3,
          5,
          5,
          5,
          1,
          3,
          8,
          1,
          4,
          3,
          2,
          4,
          2,
          3,
          3,
          3,
          2,
          5,
          14,
          8,
          7,
          8,
          9,
          9,
          8,
          4,
          4,
          3,
          3,
          6,
          6,
          6,
          7,
          6,
          5,
          5,
          6,
          8,
          6,
          4,
          5,
          3,
          3,
          5,
          1,
          3,
          3,
          3,
          4,
          3,
          2,
          2,
          3,
          3,
          4,
          5,
          4,
          4,
          4,
          3,
          3,
          3,
          3,
          4,
          3,
          3,
          3,
          4,
          4,
          3,
          5,
          3,
          4,
          5,
          3,
          4,
          5,
          2,
          3,
          4,
          4,
          4,
          4,
          3,
          4,
          4,
          5,
          3,
          3,
          4,
          6,
          3,
          4,
          2,
          3,
          2,
          2,
          3,
          7,
          3,
          2,
          2,
          2,
          11,
          3,
          3,
          4,
          5,
          4,
          4,
          4,
          3,
          3,
          4,
          5,
          5,
          4,
          4,
          2,
          2,
          2,
          3,
          2,
          2,
          2,
          3,
          3,
          3,
          3,
          3,
          0,
          3,
          6,
          4,
          6,
          4,
          5,
          5,
          6,
          3,
          3,
          5,
          4,
          3,
          3,
          2,
          2,
          3,
          5,
          4,
          4,
          4,
          4,
          4,
          4,
          6,
          4,
          4,
          3,
          3,
          5,
          5,
          3,
          6,
          5,
          4,
          4,
          5,
          2,
          4,
          4,
          3,
          3,
          3,
          5,
          2,
          4,
          4,
          5,
          4,
          4,
          4,
          5,
          2,
          2,
          3,
          3,
          2,
          2,
          2,
          2,
          4,
          3,
          3,
          3,
          5,
          8,
          4,
          4,
          4,
          2,
          4,
          5,
          2,
          3,
          3,
          4,
          1,
          2,
          3,
          2,
          2,
          1,
          3,
          1,
          2,
          3,
          3,
          2,
          4,
          4,
          2,
          4,
          2,
          3,
          2,
          3,
          2,
          2,
          3,
          2,
          3,
          4,
          5,
          3,
          3,
          3,
          4,
          3,
          4,
          4,
          3,
          2,
          2,
          3,
          0,
          3,
          1,
          3,
          0,
          3,
          0,
          3,
          4,
          4,
          2,
          3,
          4,
          3,
          3,
          3,
          3,
          3,
          3,
          3,
          4,
          3,
          4,
          3,
          4,
          2,
          43,
          88,
          43,
          43,
          43,
          43,
          42,
          45,
          43,
          43,
          43,
          43,
          43,
          43,
          43,
          43,
          43,
          43,
          43,
          47,
          43,
          42,
          43,
          43,
          42,
          42,
          43,
          43,
          43,
          43,
          43,
          43,
          43,
          43,
          43,
          43,
          43,
          43,
          43,
          42,
          43,
          42,
          40,
          43,
          42,
          43,
          43,
          43,
          43,
          43,
          42,
          43,
          42,
          43,
          43,
          43,
          43,
          43,
          43,
          43,
          42,
          43,
          43,
          43,
          43,
          43,
          43,
          43,
          43,
          42,
          43,
          43,
          43,
          43,
          43,
          43,
          43,
          44,
          44,
          43,
          43,
          43,
          41,
          46,
          43,
          43,
          43,
          43,
          43,
          43,
          42,
          47,
          43,
          43,
          43,
          43,
          43,
          43,
          43,
          46,
          43,
          46,
          43,
          41,
          43,
          44,
          43,
          4,
          3,
          4,
          4,
          5,
          5,
          4,
          4,
          3,
          5,
          4,
          4,
          4,
          4,
          3,
          4,
          4,
          3,
          3,
          4,
          4,
          5,
          5,
          3,
          3,
          3,
          4,
          3,
          4,
          3,
          4,
          4,
          4,
          4,
          4,
          2,
          4,
          2,
          3,
          3,
          5,
          4,
          5,
          3,
          4,
          5,
          3,
          4,
          4,
          5,
          5,
          5,
          5,
          4,
          4,
          4,
          4,
          4,
          5,
          5,
          4,
          3,
          3,
          2,
          6,
          4,
          5,
          0,
          5,
          4,
          3,
          6,
          4,
          5,
          3,
          0,
          5,
          6,
          3,
          4,
          4,
          4,
          4,
          5,
          4,
          3,
          4,
          3,
          2,
          4,
          3,
          9,
          4,
          3,
          5,
          4,
          4,
          3,
          4,
          3,
          5,
          2,
          6,
          4,
          4,
          6,
          4,
          5,
          4,
          3,
          5,
          4,
          3,
          3,
          5,
          3,
          4,
          3,
          3,
          3,
          4,
          5,
          4,
          4,
          5,
          3,
          3,
          3,
          1,
          3,
          1,
          2,
          3,
          0,
          3,
          2,
          3,
          1,
          1,
          3,
          3,
          3,
          3,
          3,
          4,
          3,
          3,
          4,
          5,
          5,
          5,
          4,
          5,
          5,
          6,
          3,
          1,
          2,
          3,
          3,
          3,
          3,
          3,
          3,
          3,
          3,
          1,
          6,
          5,
          5,
          5,
          7,
          5,
          5,
          8,
          1,
          5,
          6,
          4,
          3,
          4,
          4,
          3,
          4,
          3,
          4,
          4,
          5,
          4,
          3,
          5,
          1,
          7,
          3,
          4,
          0,
          3,
          4,
          3,
          3,
          3,
          2,
          3,
          2,
          5,
          3,
          6,
          3,
          4,
          4,
          6,
          4,
          3,
          6,
          5,
          4,
          4,
          5,
          4,
          4,
          4,
          3,
          3,
          3,
          3,
          3,
          4,
          2,
          1,
          2,
          4,
          3,
          4,
          4,
          4,
          3,
          2,
          2,
          5,
          43,
          43,
          43,
          43,
          43,
          43,
          43,
          23,
          21,
          22,
          21,
          22,
          22,
          20,
          21,
          21,
          21,
          21,
          22,
          21,
          21,
          22,
          21,
          21,
          21,
          21,
          21,
          21,
          21,
          21,
          21,
          20,
          21,
          21,
          28,
          22,
          21,
          21,
          21,
          21,
          21,
          30,
          30,
          21,
          41,
          21,
          21,
          28,
          21,
          21,
          21,
          21,
          29,
          21,
          21,
          28,
          27,
          42,
          44,
          84,
          5,
          49,
          49,
          48,
          48,
          48,
          48,
          48,
          48,
          48,
          48,
          47,
          48,
          48,
          48,
          48,
          48,
          49,
          48,
          49,
          48,
          48,
          48,
          48,
          48,
          41,
          43,
          43,
          3,
          4,
          4,
          4,
          4,
          3,
          4,
          3,
          2,
          3,
          3,
          3,
          4,
          3,
          3,
          3,
          2,
          3,
          2,
          3,
          3,
          4,
          3,
          5,
          4,
          6,
          6,
          8,
          4,
          5,
          5,
          4,
          5,
          9,
          3,
          4,
          4,
          5,
          5,
          6,
          4,
          5,
          3,
          3,
          4,
          5,
          4,
          3,
          1,
          3,
          3,
          0,
          3,
          3,
          2,
          1,
          3,
          0,
          3,
          2,
          2,
          2,
          3,
          3,
          3,
          3,
          5,
          2,
          5,
          4,
          5,
          3,
          4,
          3,
          3,
          3,
          3,
          5,
          4,
          3,
          3,
          4,
          5,
          3,
          41,
          43,
          1,
          8,
          43,
          43,
          43,
          43,
          43,
          43,
          43,
          43,
          4,
          5,
          4,
          5,
          3,
          5,
          3,
          2,
          4,
          6,
          5,
          43,
          43,
          43,
          41,
          43,
          6,
          11,
          4,
          3,
          5,
          5,
          4,
          4,
          6,
          3,
          3,
          3,
          3,
          4,
          3,
          3,
          3,
          4,
          3,
          3,
          3,
          4,
          4,
          4,
          4,
          3,
          4,
          3,
          3,
          3,
          3,
          4,
          3,
          4,
          3,
          4,
          5,
          4,
          4,
          8,
          4,
          3,
          3,
          2,
          2,
          9,
          3,
          5,
          6,
          5,
          6,
          5,
          4,
          3,
          4,
          5,
          4,
          4,
          8,
          2,
          9,
          2,
          3,
          30,
          28,
          2,
          4,
          9,
          5,
          9,
          4,
          6,
          6,
          4,
          3,
          8,
          4,
          6,
          4,
          4,
          8,
          9,
          2,
          1,
          2,
          4,
          2,
          1,
          4,
          6,
          3,
          4,
          2,
          3,
          4,
          2,
          3,
          3,
          2,
          2,
          3,
          6,
          3,
          6,
          3,
          2,
          2,
          5,
          3,
          3,
          3,
          5,
          11,
          3,
          5,
          4,
          6,
          3,
          1,
          4,
          9,
          6,
          6,
          2,
          6,
          4,
          3,
          2,
          5,
          4,
          4,
          0,
          4,
          8,
          4,
          2,
          1,
          3,
          3
         ],
         "xaxis": "x",
         "y": [
          10,
          5,
          3,
          4,
          5,
          6,
          7,
          6,
          6,
          8,
          6,
          8,
          6,
          8,
          10,
          6,
          11,
          8,
          10,
          11,
          7,
          10,
          9,
          10,
          8,
          9,
          8,
          10,
          9,
          11,
          7,
          6,
          7,
          9,
          7,
          9,
          11,
          8,
          7,
          5,
          6,
          5,
          9,
          7,
          8,
          8,
          7,
          7,
          9,
          15,
          4,
          8,
          10,
          7,
          6,
          11,
          8,
          8,
          6,
          10,
          8,
          7,
          5,
          8,
          4,
          5,
          7,
          4,
          7,
          4,
          6,
          5,
          6,
          3,
          11,
          8,
          6,
          13,
          11,
          9,
          8,
          9,
          11,
          10,
          5,
          6,
          6,
          5,
          6,
          6,
          7,
          7,
          4,
          4,
          7,
          6,
          6,
          7,
          7,
          9,
          8,
          7,
          7,
          8,
          7,
          7,
          8,
          8,
          9,
          9,
          2,
          1,
          1,
          2,
          2,
          2,
          2,
          2,
          2,
          2,
          1,
          1,
          8,
          14,
          7,
          9,
          18,
          10,
          7,
          8,
          10,
          7,
          9,
          7,
          10,
          8,
          8,
          7,
          8,
          8,
          11,
          17,
          11,
          6,
          13,
          8,
          8,
          8,
          11,
          8,
          6,
          11,
          6,
          20,
          6,
          15,
          8,
          5,
          8,
          3,
          8,
          10,
          7,
          5,
          4,
          10,
          1,
          6,
          0,
          10,
          0,
          6,
          0,
          5,
          2,
          9,
          12,
          10,
          0,
          7,
          5,
          11,
          8,
          8,
          7,
          8,
          8,
          15,
          8,
          12,
          11,
          10,
          15,
          7,
          4,
          5,
          13,
          7,
          7,
          6,
          4,
          5,
          5,
          4,
          18,
          5,
          3,
          4,
          15,
          7,
          2,
          4,
          4,
          4,
          5,
          5,
          6,
          9,
          9,
          4,
          8,
          9,
          8,
          13,
          6,
          10,
          5,
          5,
          11,
          5,
          9,
          5,
          5,
          5,
          6,
          7,
          4,
          5,
          5,
          6,
          9,
          5,
          4,
          4,
          12,
          1,
          6,
          4,
          4,
          7,
          7,
          7,
          9,
          3,
          7,
          7,
          6,
          4,
          4,
          4,
          2,
          2,
          6,
          5,
          8,
          8,
          6,
          7,
          9,
          7,
          9,
          6,
          5,
          8,
          7,
          2,
          6,
          7,
          3,
          6,
          13,
          7,
          7,
          8,
          6,
          7,
          9,
          7,
          7,
          7,
          6,
          7,
          8,
          5,
          8,
          6,
          7,
          7,
          9,
          6,
          9,
          8,
          7,
          7,
          6,
          7,
          5,
          9,
          7,
          8,
          8,
          6,
          9,
          7,
          8,
          7,
          8,
          8,
          7,
          8,
          8,
          6,
          6,
          6,
          6,
          6,
          7,
          6,
          6,
          6,
          6,
          6,
          6,
          6,
          6,
          5,
          9,
          8,
          5,
          12,
          5,
          8,
          5,
          9,
          11,
          3,
          5,
          11,
          19,
          22,
          7,
          11,
          5,
          5,
          8,
          4,
          21,
          2,
          10,
          8,
          8,
          9,
          9,
          9,
          9,
          9,
          9,
          9,
          9,
          8,
          9,
          9,
          9,
          8,
          7,
          7,
          8,
          8,
          4,
          9,
          5,
          8,
          6,
          5,
          5,
          7,
          7,
          5,
          4,
          6,
          8,
          6,
          9,
          5,
          4,
          7,
          8,
          11,
          8,
          5,
          8,
          7,
          8,
          6,
          5,
          6,
          12,
          4,
          6,
          11,
          11,
          4,
          14,
          20,
          12,
          9,
          17,
          8,
          8,
          7,
          10,
          7,
          8,
          12,
          7,
          7,
          9,
          8,
          9,
          7,
          7,
          6,
          7,
          8,
          7,
          6,
          9,
          6,
          7,
          6,
          5,
          6,
          7,
          6,
          7,
          8,
          6,
          7,
          7,
          5,
          6,
          5,
          8,
          6,
          9,
          8,
          10,
          9,
          8,
          8,
          8,
          9,
          9,
          9,
          9,
          9,
          8,
          5,
          5,
          7,
          7,
          5,
          5,
          4,
          5,
          4,
          6,
          2,
          4,
          4,
          5,
          4,
          6,
          5,
          5,
          7,
          6,
          6,
          2,
          13,
          7,
          10,
          10,
          8,
          9,
          12,
          9,
          11,
          8,
          7,
          6,
          6,
          6,
          8,
          5,
          7,
          7,
          4,
          7,
          7,
          6,
          5,
          5,
          6,
          7,
          7,
          6,
          8,
          13,
          11,
          4,
          6,
          5,
          9,
          5,
          11,
          12,
          5,
          7,
          9,
          4,
          5,
          16,
          3,
          8,
          6,
          6,
          5,
          5,
          7,
          6,
          11,
          14,
          8,
          10,
          7,
          23,
          19,
          25,
          7,
          10,
          20,
          7,
          10,
          15,
          10,
          10,
          10,
          8,
          10,
          9,
          9,
          10,
          9,
          10,
          11,
          8,
          10,
          8,
          11,
          11,
          8,
          9,
          9,
          11,
          8,
          10,
          8,
          9,
          9,
          11,
          23,
          7,
          7,
          8,
          6,
          7,
          7,
          5,
          7,
          6,
          8,
          9,
          10,
          6,
          7,
          6,
          5,
          10,
          7,
          25,
          11,
          14,
          8,
          5,
          6,
          17,
          7,
          17,
          28,
          10,
          14,
          15,
          26,
          5,
          10,
          7,
          6,
          11,
          37,
          28,
          26,
          23,
          5,
          10,
          5,
          5,
          5,
          5,
          6,
          6,
          5,
          5,
          5,
          5,
          5,
          5,
          9,
          8,
          6,
          8,
          6,
          6,
          6,
          6,
          12,
          12,
          5,
          5,
          6,
          6,
          4,
          7,
          7,
          5,
          6,
          5,
          6,
          6,
          5,
          7,
          5,
          8,
          5,
          8,
          7,
          7,
          6,
          7,
          7,
          3,
          4,
          5,
          4,
          8,
          8,
          5,
          4,
          5,
          4,
          5,
          5,
          4,
          4,
          4,
          5,
          5,
          4,
          6,
          20,
          5,
          5,
          5,
          7,
          8,
          7,
          9,
          5,
          6,
          9,
          5,
          5,
          5,
          4,
          7,
          6,
          4,
          12,
          7,
          7,
          5,
          10,
          6,
          4,
          6,
          7,
          7,
          7,
          6,
          6,
          6,
          7,
          8,
          6,
          6,
          6,
          4,
          9,
          8,
          7,
          7,
          9,
          7,
          7,
          5,
          6,
          6,
          8,
          6,
          8,
          8,
          6,
          8,
          5,
          7,
          5,
          6,
          7,
          8,
          7,
          5,
          11,
          9,
          8,
          7,
          19,
          14,
          6,
          8,
          13,
          6,
          13,
          7,
          8,
          10,
          15,
          12,
          13,
          9,
          18,
          7,
          11,
          9,
          9,
          9,
          6,
          14,
          10,
          11,
          9,
          9,
          7,
          10,
          13,
          8,
          8,
          11,
          8,
          14,
          8,
          10,
          9,
          9,
          8,
          10,
          11,
          7,
          8,
          10,
          10,
          8,
          9,
          9,
          6,
          10,
          7,
          12,
          7,
          8,
          8,
          9,
          6,
          6,
          8,
          7,
          6,
          11,
          7,
          12,
          7,
          10,
          10,
          8,
          8,
          8,
          8,
          9,
          7,
          10,
          9,
          8,
          7,
          6,
          7,
          7,
          6,
          7,
          10,
          9,
          7,
          11,
          8,
          10,
          13,
          10,
          11,
          11,
          8,
          20,
          10,
          11,
          8,
          7,
          9,
          10,
          6,
          8,
          6,
          8,
          8,
          9,
          8,
          8,
          10,
          10,
          10,
          6,
          8,
          9,
          7,
          6,
          7,
          8,
          10,
          8,
          8,
          6,
          5,
          5,
          8,
          5,
          7,
          7,
          6,
          5,
          8,
          7,
          5,
          7,
          8,
          13,
          5,
          5,
          7,
          7,
          5,
          9,
          9,
          6,
          8,
          6,
          6,
          7,
          8,
          6,
          9,
          5,
          7,
          6,
          7,
          6,
          8,
          10,
          7,
          9,
          11,
          7,
          7,
          6,
          6,
          15,
          8,
          6,
          8,
          7,
          4,
          10,
          7,
          6,
          6,
          4,
          8,
          3,
          7,
          7,
          8,
          8,
          6,
          9,
          8,
          7,
          8,
          6,
          9,
          8,
          12,
          7,
          5,
          4,
          8,
          9,
          6,
          6,
          7,
          7,
          5,
          5,
          9,
          12,
          4,
          8,
          10,
          5,
          6,
          9,
          9,
          4,
          11,
          15,
          7,
          7,
          10,
          14,
          7,
          1,
          7,
          8,
          7,
          7,
          5,
          4,
          11,
          3,
          7,
          6,
          8,
          5,
          5,
          7,
          6,
          7,
          7,
          3,
          6,
          8,
          8,
          7,
          10,
          9,
          9,
          6,
          8,
          6,
          9,
          8,
          7,
          6,
          9,
          8,
          8,
          9,
          8,
          8,
          9,
          9,
          8,
          8,
          9,
          14,
          2,
          7,
          7,
          6,
          4,
          4,
          8,
          4,
          4,
          8,
          7,
          9,
          10,
          8,
          4,
          6,
          6,
          4,
          6,
          4,
          5,
          5,
          2,
          4,
          5,
          4,
          6,
          5,
          8,
          5,
          5,
          6,
          5,
          5,
          9,
          6,
          6,
          5,
          7,
          7,
          7,
          10,
          9,
          7,
          7,
          10,
          10,
          7,
          6,
          16,
          6,
          2,
          9,
          7,
          8,
          8,
          7,
          6,
          7,
          6,
          6,
          6,
          8,
          4,
          6,
          8,
          0,
          4,
          7,
          9,
          9,
          7,
          7,
          11,
          8,
          8,
          7,
          8,
          9,
          10,
          7,
          7,
          11,
          9,
          8,
          10,
          8,
          6,
          8,
          10,
          9,
          9,
          9,
          7,
          9,
          9,
          9,
          8,
          8,
          8,
          6,
          8,
          6,
          8,
          7,
          7,
          8,
          7,
          7,
          7,
          7,
          2,
          8,
          5,
          17,
          7,
          8,
          5,
          5,
          6,
          3,
          6,
          7,
          8,
          17,
          7,
          4,
          3,
          4,
          4,
          3,
          6,
          3,
          3,
          5,
          3,
          3,
          5,
          3,
          4,
          3,
          4,
          2,
          2,
          5,
          4,
          3,
          8,
          5,
          2,
          5,
          4,
          4,
          9,
          14,
          8,
          6,
          10,
          10,
          6,
          13,
          8,
          16,
          7,
          17,
          10,
          8,
          2,
          11,
          8,
          10,
          12,
          7,
          10,
          7,
          8,
          11,
          11,
          11,
          16,
          11,
          4,
          6,
          8,
          4,
          7,
          5,
          7,
          8,
          7,
          8,
          6,
          4,
          3,
          3,
          4,
          5,
          4,
          4,
          3,
          3,
          5,
          4,
          7,
          3,
          3,
          4,
          5,
          3,
          4,
          6,
          4,
          6,
          4,
          6,
          10,
          15,
          14,
          16,
          10,
          21,
          9,
          20,
          14,
          19,
          8,
          8,
          16,
          13,
          19,
          11,
          11,
          19,
          14,
          14,
          16,
          7,
          8,
          15,
          12,
          10,
          13,
          11,
          8,
          8,
          7,
          12,
          16,
          5,
          4,
          7,
          4,
          9,
          5,
          7,
          5,
          4,
          2,
          3,
          5,
          4,
          4,
          5,
          6,
          8,
          4,
          6,
          1,
          6,
          8,
          6,
          8,
          5,
          18,
          10,
          6,
          10,
          5,
          5,
          4,
          4,
          8,
          6,
          7,
          10,
          5,
          6,
          3,
          6,
          4,
          7,
          5,
          10,
          9,
          9,
          8,
          6,
          10,
          5,
          7,
          11,
          10,
          5,
          7,
          10,
          3,
          3,
          4,
          3,
          3,
          3,
          4,
          3,
          4,
          5,
          5,
          6,
          3,
          4,
          3,
          4,
          3,
          3,
          6,
          6,
          8,
          5,
          5,
          8,
          7,
          9,
          18,
          4,
          10,
          15,
          13,
          7,
          14,
          16,
          24,
          10,
          10,
          22,
          21,
          10,
          17,
          13,
          11,
          16,
          12,
          11,
          7,
          8,
          4,
          6,
          13,
          6,
          6,
          6,
          10,
          7,
          7,
          10,
          7,
          11,
          6,
          8,
          5,
          3,
          3,
          5,
          2,
          3,
          11,
          4,
          25,
          11,
          9,
          16,
          11,
          14,
          11,
          13,
          15,
          12,
          18,
          6,
          22,
          11,
          20,
          14,
          15,
          18,
          12,
          5,
          5,
          6,
          4,
          3,
          5,
          5,
          5,
          5,
          10,
          6,
          6,
          6,
          6,
          7,
          7,
          8,
          10,
          6,
          8,
          7,
          11,
          8,
          9,
          12,
          7,
          7,
          16,
          19,
          5,
          10,
          9,
          10,
          8,
          7,
          10,
          10,
          8,
          10,
          6,
          8,
          16,
          8,
          9,
          11,
          12,
          9,
          10,
          13,
          10,
          12,
          12,
          3,
          6,
          6,
          7,
          7,
          8,
          8,
          5,
          7,
          8,
          4,
          8,
          8,
          6,
          6,
          6,
          4,
          6,
          7,
          5,
          5,
          12,
          5,
          7,
          6,
          6,
          5,
          6,
          6,
          6,
          4,
          3,
          4,
          3,
          3,
          1,
          3,
          4,
          1,
          5,
          9,
          11,
          9,
          10,
          10,
          14,
          11,
          12,
          10,
          6,
          10,
          11,
          7,
          9,
          8,
          8,
          9,
          8,
          8,
          8,
          7,
          7,
          8,
          4,
          7,
          9,
          9,
          6,
          7,
          5,
          7,
          8,
          8,
          8,
          6,
          3,
          6,
          6,
          5,
          6,
          6,
          6,
          4,
          6,
          8,
          1,
          6,
          9,
          10,
          8,
          7,
          8,
          9,
          6,
          13,
          8,
          5,
          6,
          6,
          6,
          7,
          7,
          5,
          6,
          4,
          11,
          8,
          9,
          5,
          7,
          8,
          6,
          9,
          12,
          9,
          34,
          16,
          7,
          10,
          25,
          12,
          4,
          5,
          8,
          8,
          6,
          9,
          8,
          10,
          10,
          14,
          9,
          6,
          6,
          8,
          13,
          8,
          12,
          8,
          11,
          6,
          19,
          11,
          10,
          9,
          6,
          10,
          14,
          8,
          9,
          6,
          13,
          5,
          12,
          12,
          12,
          8,
          4,
          4,
          8,
          15,
          10,
          8,
          11,
          8,
          7,
          4,
          8,
          8,
          8,
          4,
          7,
          6,
          13,
          7,
          9,
          5,
          10,
          8,
          6,
          16,
          3,
          9,
          12,
          6,
          7,
          7,
          8,
          8,
          19,
          12,
          5,
          11,
          8,
          8,
          17,
          7,
          7,
          10,
          15,
          50,
          23,
          20,
          24,
          26,
          7,
          8,
          8,
          8,
          8,
          7,
          10,
          9,
          10,
          6,
          10,
          9,
          8,
          5,
          8,
          4,
          7,
          4,
          8,
          9,
          8,
          5,
          17,
          6,
          9,
          6,
          11,
          8,
          6,
          10,
          6,
          6,
          6,
          6,
          7,
          7,
          8,
          7,
          8,
          8,
          7,
          5,
          8,
          9,
          10,
          9,
          6,
          8,
          7,
          7,
          7,
          9,
          8,
          5,
          7,
          6,
          6,
          6,
          10,
          6,
          8,
          7,
          4,
          6,
          4,
          6,
          7,
          8,
          7,
          8,
          8,
          6,
          5,
          7,
          4,
          7,
          4,
          11,
          11,
          4,
          3,
          17,
          8,
          4,
          4,
          6,
          4,
          5,
          5,
          7,
          1,
          6,
          6,
          6,
          7,
          6,
          4,
          6,
          8,
          5,
          5,
          9,
          4,
          4,
          5,
          4,
          4,
          4,
          5,
          6,
          6,
          5,
          6,
          5,
          8,
          6,
          6,
          9,
          7,
          7,
          7,
          7,
          6,
          6,
          12,
          6,
          8,
          8,
          6,
          11,
          10,
          10,
          7,
          12,
          12,
          7,
          7,
          12,
          7,
          9,
          12,
          7,
          12,
          12,
          9,
          5,
          6,
          14,
          6,
          10,
          8,
          4,
          5,
          5,
          7,
          6,
          9,
          5,
          7,
          13,
          5,
          8,
          7,
          7,
          9,
          12,
          12,
          9,
          9,
          10,
          12,
          8,
          10,
          8,
          15,
          9,
          7,
          7,
          10,
          10,
          9,
          18,
          9,
          16,
          12,
          12,
          15,
          10,
          15,
          10,
          8,
          8,
          9,
          12,
          10,
          9,
          11,
          7,
          12,
          11,
          14,
          9,
          15,
          8,
          12,
          9,
          12,
          7,
          8,
          12,
          16,
          10,
          13,
          15,
          10,
          15,
          10,
          13,
          10,
          13,
          9,
          16,
          12,
          18,
          12,
          14,
          12,
          10,
          14,
          18,
          9,
          6,
          7,
          6,
          8,
          6,
          9,
          8,
          5,
          4,
          5,
          6,
          6,
          9,
          5,
          7,
          6,
          6,
          6,
          7,
          8,
          6,
          5,
          6,
          9,
          4,
          10,
          2,
          4,
          8,
          7,
          8,
          7,
          8,
          8,
          8,
          6,
          4,
          4,
          12,
          6,
          5,
          6,
          4,
          6,
          6,
          5,
          5,
          6,
          4,
          3,
          8,
          5,
          5,
          5,
          5,
          7,
          7,
          7,
          6,
          6,
          7,
          6,
          7,
          7,
          7,
          8,
          1,
          8,
          8,
          8,
          8,
          8,
          10,
          8,
          7,
          7,
          7,
          8,
          8,
          6,
          8,
          6,
          7,
          6,
          1,
          4,
          6,
          8,
          8,
          3,
          7,
          3,
          5,
          6,
          8,
          7,
          5,
          4,
          6,
          3,
          6,
          9,
          7,
          6,
          5,
          8,
          5,
          4,
          6,
          4,
          6,
          6,
          7,
          2,
          6,
          7,
          5,
          8,
          7,
          8,
          6,
          8,
          8,
          9,
          10,
          10,
          6,
          6,
          7,
          5,
          7,
          7,
          7,
          7,
          5,
          4,
          6,
          6,
          7,
          7,
          6,
          7,
          9,
          7,
          5,
          5,
          5,
          6,
          7,
          7,
          6,
          5,
          4,
          5,
          6,
          6,
          8,
          5,
          8,
          7,
          8,
          6,
          8,
          7,
          7,
          5,
          5,
          6,
          5,
          6,
          6,
          6,
          7,
          7,
          8,
          6,
          6,
          7,
          9,
          5,
          6,
          6,
          6,
          6,
          5,
          7,
          8,
          7,
          7,
          10,
          4,
          4,
          5,
          5,
          4,
          4,
          7,
          8,
          10,
          9,
          10,
          8,
          10,
          15,
          14,
          5,
          11,
          5,
          10,
          7,
          8,
          7,
          11,
          7,
          12,
          8,
          10,
          7,
          9,
          10,
          10,
          10,
          7,
          10,
          8,
          10,
          12,
          3,
          6,
          10,
          6,
          8,
          6,
          5,
          6,
          6,
          5,
          5,
          9,
          7,
          7,
          5,
          10,
          6,
          6,
          12,
          7,
          9,
          7,
          7,
          12,
          7,
          3,
          4,
          5,
          7,
          9,
          10,
          8,
          7,
          7,
          12,
          11,
          7,
          6,
          4,
          8,
          8,
          6,
          5,
          5,
          7,
          1,
          7,
          10,
          13,
          6,
          7,
          8,
          7,
          6,
          6,
          7,
          8,
          4,
          5,
          6,
          7,
          7,
          2,
          8,
          7,
          9,
          10,
          6,
          10,
          9,
          5,
          6,
          9,
          8,
          16,
          6,
          5,
          7,
          6,
          6,
          11,
          5,
          8,
          7,
          6,
          5,
          9,
          7,
          7,
          8,
          7,
          6,
          8,
          7,
          8,
          11,
          6,
          7,
          9,
          11,
          7,
          6,
          13,
          8,
          12,
          14,
          6,
          7,
          3,
          9,
          5,
          4,
          0,
          5,
          6,
          6,
          5,
          5,
          3,
          6,
          6,
          3,
          6,
          3,
          12,
          11,
          6,
          5,
          6,
          5,
          5,
          6,
          7,
          5,
          9,
          7,
          5,
          6,
          5,
          5,
          3,
          5,
          3,
          5,
          6,
          5,
          8,
          5,
          7,
          5,
          6,
          11,
          6,
          7,
          7,
          8,
          5,
          5,
          7,
          6,
          8,
          6,
          7,
          8,
          7,
          9,
          6,
          8,
          9,
          10,
          9,
          15,
          10,
          13,
          6,
          7,
          10,
          9,
          4,
          7,
          6,
          7,
          8,
          9,
          6,
          7,
          7,
          6,
          6,
          7,
          7,
          7,
          6,
          6,
          6,
          8,
          7,
          7,
          6,
          6,
          5,
          7,
          8,
          6,
          7,
          7,
          4,
          4,
          3,
          3,
          5,
          6,
          9,
          7,
          4,
          4,
          6,
          8,
          5,
          6,
          7,
          4,
          6,
          4,
          5,
          6,
          5,
          8,
          7,
          7,
          7,
          6,
          9,
          10,
          6,
          7,
          7,
          7,
          8,
          8,
          8,
          8,
          8,
          6,
          8,
          15,
          2,
          6,
          8,
          8,
          9,
          8,
          7,
          8,
          6,
          9,
          7,
          7,
          9,
          6,
          6,
          7,
          11,
          7,
          8,
          6,
          7,
          6,
          10,
          7,
          5,
          7,
          4,
          7,
          9,
          7,
          3,
          6,
          9,
          8,
          7,
          10,
          20,
          8,
          16,
          8,
          5,
          8,
          4,
          18,
          6,
          9,
          18,
          22,
          19,
          9,
          7,
          9,
          19,
          27,
          14,
          33,
          2,
          26,
          28,
          19,
          8,
          8,
          8,
          7,
          7,
          7,
          6,
          7,
          7,
          9,
          7,
          8,
          9,
          7,
          8,
          8,
          7,
          7,
          7,
          7,
          7,
          7,
          9,
          9,
          8,
          9,
          8,
          0,
          8,
          7,
          10,
          7,
          8,
          7,
          9,
          7,
          8,
          10,
          5,
          14,
          7,
          5,
          6,
          7,
          6,
          8,
          5,
          7,
          7,
          11,
          7,
          9,
          12,
          8,
          8,
          10,
          8,
          9,
          6,
          6,
          5,
          8,
          8,
          5,
          7,
          9,
          8,
          6,
          7,
          7,
          7,
          7,
          7,
          6,
          9,
          11,
          6,
          11,
          9,
          8,
          7,
          10,
          9,
          8,
          7,
          9,
          10,
          5,
          7,
          7,
          8,
          7,
          7,
          9,
          10,
          8,
          8,
          10,
          4,
          7,
          8,
          5,
          8,
          4,
          10,
          5,
          6,
          16,
          9,
          6,
          7,
          2,
          11,
          7,
          10,
          10,
          9,
          3,
          6,
          15,
          1,
          8,
          7,
          4,
          7,
          3,
          6,
          6,
          6,
          5,
          10,
          27,
          16,
          14,
          16,
          17,
          18,
          16,
          9,
          8,
          6,
          6,
          12,
          11,
          11,
          14,
          12,
          9,
          11,
          11,
          15,
          11,
          8,
          9,
          7,
          6,
          10,
          3,
          5,
          5,
          7,
          7,
          6,
          4,
          5,
          6,
          6,
          8,
          10,
          8,
          8,
          7,
          6,
          7,
          7,
          5,
          7,
          6,
          6,
          7,
          9,
          8,
          7,
          9,
          6,
          8,
          9,
          7,
          7,
          9,
          5,
          7,
          8,
          7,
          8,
          8,
          7,
          7,
          8,
          10,
          6,
          7,
          8,
          11,
          6,
          8,
          4,
          6,
          4,
          4,
          6,
          13,
          6,
          4,
          5,
          4,
          21,
          6,
          5,
          9,
          9,
          7,
          7,
          8,
          6,
          5,
          7,
          9,
          9,
          9,
          9,
          5,
          5,
          4,
          7,
          5,
          5,
          5,
          7,
          7,
          7,
          6,
          6,
          1,
          6,
          11,
          7,
          11,
          8,
          10,
          9,
          11,
          7,
          6,
          10,
          9,
          6,
          6,
          4,
          5,
          7,
          10,
          8,
          8,
          9,
          8,
          8,
          7,
          11,
          7,
          8,
          6,
          6,
          9,
          10,
          6,
          12,
          9,
          7,
          7,
          10,
          5,
          8,
          8,
          6,
          6,
          6,
          9,
          5,
          9,
          8,
          9,
          9,
          7,
          9,
          10,
          3,
          4,
          6,
          7,
          4,
          4,
          4,
          5,
          8,
          6,
          5,
          6,
          9,
          16,
          7,
          9,
          8,
          5,
          9,
          10,
          3,
          6,
          6,
          8,
          3,
          4,
          7,
          5,
          4,
          3,
          7,
          2,
          5,
          6,
          6,
          4,
          7,
          7,
          4,
          7,
          4,
          6,
          4,
          6,
          4,
          5,
          6,
          4,
          5,
          8,
          10,
          7,
          7,
          6,
          9,
          6,
          8,
          7,
          6,
          5,
          4,
          6,
          1,
          5,
          3,
          6,
          1,
          6,
          1,
          6,
          9,
          9,
          5,
          6,
          7,
          6,
          6,
          6,
          5,
          5,
          6,
          7,
          8,
          6,
          8,
          6,
          7,
          5,
          468,
          1005,
          453,
          445,
          461,
          472,
          467,
          483,
          504,
          467,
          493,
          484,
          469,
          527,
          441,
          512,
          490,
          476,
          463,
          474,
          491,
          470,
          497,
          501,
          466,
          523,
          486,
          491,
          492,
          481,
          477,
          483,
          512,
          517,
          488,
          470,
          480,
          464,
          489,
          207,
          518,
          479,
          195,
          510,
          478,
          477,
          200,
          490,
          475,
          198,
          477,
          482,
          192,
          512,
          200,
          481,
          475,
          486,
          218,
          510,
          453,
          213,
          512,
          464,
          197,
          462,
          213,
          481,
          464,
          201,
          496,
          522,
          493,
          465,
          175,
          197,
          493,
          494,
          517,
          209,
          525,
          487,
          200,
          529,
          513,
          196,
          472,
          205,
          518,
          479,
          467,
          547,
          204,
          494,
          205,
          493,
          202,
          479,
          204,
          503,
          203,
          506,
          203,
          436,
          199,
          480,
          188,
          8,
          6,
          8,
          8,
          9,
          10,
          8,
          7,
          7,
          10,
          8,
          8,
          7,
          8,
          7,
          9,
          8,
          6,
          7,
          9,
          8,
          10,
          10,
          7,
          6,
          5,
          8,
          6,
          9,
          6,
          9,
          9,
          8,
          7,
          8,
          5,
          8,
          4,
          6,
          7,
          9,
          9,
          10,
          6,
          8,
          9,
          7,
          8,
          8,
          9,
          9,
          11,
          10,
          8,
          8,
          8,
          9,
          8,
          9,
          9,
          9,
          5,
          5,
          5,
          11,
          8,
          11,
          1,
          10,
          8,
          7,
          11,
          7,
          9,
          6,
          1,
          10,
          12,
          7,
          8,
          9,
          8,
          8,
          11,
          8,
          6,
          9,
          5,
          5,
          8,
          7,
          18,
          8,
          6,
          10,
          8,
          8,
          7,
          7,
          7,
          10,
          5,
          12,
          7,
          8,
          13,
          9,
          10,
          8,
          6,
          10,
          8,
          6,
          7,
          10,
          6,
          7,
          7,
          6,
          6,
          8,
          10,
          8,
          7,
          10,
          7,
          5,
          6,
          2,
          6,
          3,
          5,
          7,
          1,
          7,
          5,
          6,
          2,
          3,
          7,
          6,
          5,
          6,
          6,
          7,
          6,
          7,
          9,
          10,
          9,
          10,
          7,
          9,
          9,
          11,
          6,
          3,
          4,
          7,
          7,
          6,
          5,
          6,
          6,
          6,
          5,
          3,
          12,
          10,
          10,
          10,
          14,
          10,
          10,
          15,
          2,
          10,
          11,
          8,
          7,
          8,
          8,
          6,
          8,
          6,
          7,
          7,
          10,
          7,
          7,
          10,
          3,
          13,
          7,
          8,
          1,
          6,
          8,
          7,
          5,
          6,
          4,
          7,
          5,
          10,
          5,
          12,
          7,
          8,
          8,
          12,
          7,
          6,
          11,
          9,
          7,
          8,
          10,
          7,
          8,
          7,
          6,
          7,
          5,
          5,
          6,
          8,
          4,
          3,
          5,
          8,
          6,
          7,
          9,
          7,
          6,
          5,
          4,
          10,
          466,
          516,
          505,
          453,
          471,
          497,
          494,
          277,
          245,
          248,
          253,
          255,
          255,
          235,
          260,
          244,
          254,
          237,
          264,
          242,
          244,
          252,
          248,
          240,
          242,
          241,
          244,
          243,
          241,
          243,
          241,
          235,
          233,
          242,
          312,
          264,
          243,
          254,
          245,
          240,
          241,
          342,
          329,
          237,
          491,
          234,
          239,
          321,
          251,
          246,
          242,
          247,
          354,
          241,
          239,
          323,
          318,
          477,
          465,
          1010,
          4,
          516,
          497,
          528,
          512,
          509,
          532,
          489,
          515,
          521,
          543,
          559,
          480,
          491,
          511,
          482,
          465,
          551,
          526,
          511,
          503,
          501,
          522,
          488,
          511,
          469,
          525,
          470,
          3,
          4,
          4,
          4,
          4,
          3,
          3,
          3,
          2,
          2,
          3,
          3,
          4,
          3,
          3,
          3,
          2,
          3,
          2,
          2,
          3,
          4,
          3,
          5,
          4,
          5,
          6,
          7,
          4,
          5,
          5,
          3,
          5,
          8,
          2,
          4,
          3,
          5,
          5,
          6,
          4,
          5,
          3,
          3,
          4,
          5,
          4,
          8,
          2,
          6,
          8,
          0,
          8,
          8,
          5,
          4,
          9,
          0,
          7,
          6,
          6,
          6,
          9,
          7,
          9,
          9,
          11,
          5,
          13,
          10,
          11,
          8,
          10,
          9,
          8,
          8,
          8,
          12,
          9,
          9,
          8,
          10,
          12,
          7,
          468,
          502,
          19,
          93,
          488,
          492,
          477,
          496,
          489,
          482,
          480,
          479,
          3,
          4,
          4,
          5,
          3,
          4,
          3,
          2,
          4,
          5,
          5,
          462,
          455,
          498,
          499,
          463,
          6,
          10,
          4,
          3,
          4,
          5,
          4,
          4,
          6,
          3,
          3,
          3,
          3,
          4,
          3,
          3,
          3,
          4,
          3,
          3,
          3,
          4,
          4,
          3,
          3,
          3,
          4,
          3,
          3,
          3,
          3,
          4,
          3,
          4,
          3,
          4,
          4,
          58,
          3,
          7,
          4,
          3,
          3,
          1,
          2,
          9,
          3,
          5,
          6,
          9,
          6,
          5,
          4,
          2,
          4,
          4,
          3,
          4,
          8,
          2,
          9,
          2,
          3,
          343,
          327,
          2,
          4,
          8,
          4,
          8,
          3,
          5,
          6,
          4,
          3,
          7,
          4,
          6,
          4,
          4,
          8,
          8,
          2,
          1,
          2,
          4,
          2,
          3,
          4,
          5,
          3,
          3,
          2,
          2,
          3,
          2,
          2,
          3,
          2,
          2,
          3,
          6,
          3,
          6,
          3,
          2,
          2,
          4,
          3,
          3,
          3,
          4,
          10,
          3,
          10,
          9,
          6,
          3,
          1,
          4,
          8,
          5,
          6,
          2,
          5,
          4,
          3,
          2,
          5,
          4,
          4,
          2,
          4,
          15,
          4,
          2,
          1,
          3,
          3
         ],
         "yaxis": "y"
        }
       ],
       "layout": {
        "legend": {
         "tracegroupgap": 0
        },
        "template": {
         "data": {
          "bar": [
           {
            "error_x": {
             "color": "#2a3f5f"
            },
            "error_y": {
             "color": "#2a3f5f"
            },
            "marker": {
             "line": {
              "color": "#E5ECF6",
              "width": 0.5
             },
             "pattern": {
              "fillmode": "overlay",
              "size": 10,
              "solidity": 0.2
             }
            },
            "type": "bar"
           }
          ],
          "barpolar": [
           {
            "marker": {
             "line": {
              "color": "#E5ECF6",
              "width": 0.5
             },
             "pattern": {
              "fillmode": "overlay",
              "size": 10,
              "solidity": 0.2
             }
            },
            "type": "barpolar"
           }
          ],
          "carpet": [
           {
            "aaxis": {
             "endlinecolor": "#2a3f5f",
             "gridcolor": "white",
             "linecolor": "white",
             "minorgridcolor": "white",
             "startlinecolor": "#2a3f5f"
            },
            "baxis": {
             "endlinecolor": "#2a3f5f",
             "gridcolor": "white",
             "linecolor": "white",
             "minorgridcolor": "white",
             "startlinecolor": "#2a3f5f"
            },
            "type": "carpet"
           }
          ],
          "choropleth": [
           {
            "colorbar": {
             "outlinewidth": 0,
             "ticks": ""
            },
            "type": "choropleth"
           }
          ],
          "contour": [
           {
            "colorbar": {
             "outlinewidth": 0,
             "ticks": ""
            },
            "colorscale": [
             [
              0,
              "#0d0887"
             ],
             [
              0.1111111111111111,
              "#46039f"
             ],
             [
              0.2222222222222222,
              "#7201a8"
             ],
             [
              0.3333333333333333,
              "#9c179e"
             ],
             [
              0.4444444444444444,
              "#bd3786"
             ],
             [
              0.5555555555555556,
              "#d8576b"
             ],
             [
              0.6666666666666666,
              "#ed7953"
             ],
             [
              0.7777777777777778,
              "#fb9f3a"
             ],
             [
              0.8888888888888888,
              "#fdca26"
             ],
             [
              1,
              "#f0f921"
             ]
            ],
            "type": "contour"
           }
          ],
          "contourcarpet": [
           {
            "colorbar": {
             "outlinewidth": 0,
             "ticks": ""
            },
            "type": "contourcarpet"
           }
          ],
          "heatmap": [
           {
            "colorbar": {
             "outlinewidth": 0,
             "ticks": ""
            },
            "colorscale": [
             [
              0,
              "#0d0887"
             ],
             [
              0.1111111111111111,
              "#46039f"
             ],
             [
              0.2222222222222222,
              "#7201a8"
             ],
             [
              0.3333333333333333,
              "#9c179e"
             ],
             [
              0.4444444444444444,
              "#bd3786"
             ],
             [
              0.5555555555555556,
              "#d8576b"
             ],
             [
              0.6666666666666666,
              "#ed7953"
             ],
             [
              0.7777777777777778,
              "#fb9f3a"
             ],
             [
              0.8888888888888888,
              "#fdca26"
             ],
             [
              1,
              "#f0f921"
             ]
            ],
            "type": "heatmap"
           }
          ],
          "heatmapgl": [
           {
            "colorbar": {
             "outlinewidth": 0,
             "ticks": ""
            },
            "colorscale": [
             [
              0,
              "#0d0887"
             ],
             [
              0.1111111111111111,
              "#46039f"
             ],
             [
              0.2222222222222222,
              "#7201a8"
             ],
             [
              0.3333333333333333,
              "#9c179e"
             ],
             [
              0.4444444444444444,
              "#bd3786"
             ],
             [
              0.5555555555555556,
              "#d8576b"
             ],
             [
              0.6666666666666666,
              "#ed7953"
             ],
             [
              0.7777777777777778,
              "#fb9f3a"
             ],
             [
              0.8888888888888888,
              "#fdca26"
             ],
             [
              1,
              "#f0f921"
             ]
            ],
            "type": "heatmapgl"
           }
          ],
          "histogram": [
           {
            "marker": {
             "pattern": {
              "fillmode": "overlay",
              "size": 10,
              "solidity": 0.2
             }
            },
            "type": "histogram"
           }
          ],
          "histogram2d": [
           {
            "colorbar": {
             "outlinewidth": 0,
             "ticks": ""
            },
            "colorscale": [
             [
              0,
              "#0d0887"
             ],
             [
              0.1111111111111111,
              "#46039f"
             ],
             [
              0.2222222222222222,
              "#7201a8"
             ],
             [
              0.3333333333333333,
              "#9c179e"
             ],
             [
              0.4444444444444444,
              "#bd3786"
             ],
             [
              0.5555555555555556,
              "#d8576b"
             ],
             [
              0.6666666666666666,
              "#ed7953"
             ],
             [
              0.7777777777777778,
              "#fb9f3a"
             ],
             [
              0.8888888888888888,
              "#fdca26"
             ],
             [
              1,
              "#f0f921"
             ]
            ],
            "type": "histogram2d"
           }
          ],
          "histogram2dcontour": [
           {
            "colorbar": {
             "outlinewidth": 0,
             "ticks": ""
            },
            "colorscale": [
             [
              0,
              "#0d0887"
             ],
             [
              0.1111111111111111,
              "#46039f"
             ],
             [
              0.2222222222222222,
              "#7201a8"
             ],
             [
              0.3333333333333333,
              "#9c179e"
             ],
             [
              0.4444444444444444,
              "#bd3786"
             ],
             [
              0.5555555555555556,
              "#d8576b"
             ],
             [
              0.6666666666666666,
              "#ed7953"
             ],
             [
              0.7777777777777778,
              "#fb9f3a"
             ],
             [
              0.8888888888888888,
              "#fdca26"
             ],
             [
              1,
              "#f0f921"
             ]
            ],
            "type": "histogram2dcontour"
           }
          ],
          "mesh3d": [
           {
            "colorbar": {
             "outlinewidth": 0,
             "ticks": ""
            },
            "type": "mesh3d"
           }
          ],
          "parcoords": [
           {
            "line": {
             "colorbar": {
              "outlinewidth": 0,
              "ticks": ""
             }
            },
            "type": "parcoords"
           }
          ],
          "pie": [
           {
            "automargin": true,
            "type": "pie"
           }
          ],
          "scatter": [
           {
            "fillpattern": {
             "fillmode": "overlay",
             "size": 10,
             "solidity": 0.2
            },
            "type": "scatter"
           }
          ],
          "scatter3d": [
           {
            "line": {
             "colorbar": {
              "outlinewidth": 0,
              "ticks": ""
             }
            },
            "marker": {
             "colorbar": {
              "outlinewidth": 0,
              "ticks": ""
             }
            },
            "type": "scatter3d"
           }
          ],
          "scattercarpet": [
           {
            "marker": {
             "colorbar": {
              "outlinewidth": 0,
              "ticks": ""
             }
            },
            "type": "scattercarpet"
           }
          ],
          "scattergeo": [
           {
            "marker": {
             "colorbar": {
              "outlinewidth": 0,
              "ticks": ""
             }
            },
            "type": "scattergeo"
           }
          ],
          "scattergl": [
           {
            "marker": {
             "colorbar": {
              "outlinewidth": 0,
              "ticks": ""
             }
            },
            "type": "scattergl"
           }
          ],
          "scattermapbox": [
           {
            "marker": {
             "colorbar": {
              "outlinewidth": 0,
              "ticks": ""
             }
            },
            "type": "scattermapbox"
           }
          ],
          "scatterpolar": [
           {
            "marker": {
             "colorbar": {
              "outlinewidth": 0,
              "ticks": ""
             }
            },
            "type": "scatterpolar"
           }
          ],
          "scatterpolargl": [
           {
            "marker": {
             "colorbar": {
              "outlinewidth": 0,
              "ticks": ""
             }
            },
            "type": "scatterpolargl"
           }
          ],
          "scatterternary": [
           {
            "marker": {
             "colorbar": {
              "outlinewidth": 0,
              "ticks": ""
             }
            },
            "type": "scatterternary"
           }
          ],
          "surface": [
           {
            "colorbar": {
             "outlinewidth": 0,
             "ticks": ""
            },
            "colorscale": [
             [
              0,
              "#0d0887"
             ],
             [
              0.1111111111111111,
              "#46039f"
             ],
             [
              0.2222222222222222,
              "#7201a8"
             ],
             [
              0.3333333333333333,
              "#9c179e"
             ],
             [
              0.4444444444444444,
              "#bd3786"
             ],
             [
              0.5555555555555556,
              "#d8576b"
             ],
             [
              0.6666666666666666,
              "#ed7953"
             ],
             [
              0.7777777777777778,
              "#fb9f3a"
             ],
             [
              0.8888888888888888,
              "#fdca26"
             ],
             [
              1,
              "#f0f921"
             ]
            ],
            "type": "surface"
           }
          ],
          "table": [
           {
            "cells": {
             "fill": {
              "color": "#EBF0F8"
             },
             "line": {
              "color": "white"
             }
            },
            "header": {
             "fill": {
              "color": "#C8D4E3"
             },
             "line": {
              "color": "white"
             }
            },
            "type": "table"
           }
          ]
         },
         "layout": {
          "annotationdefaults": {
           "arrowcolor": "#2a3f5f",
           "arrowhead": 0,
           "arrowwidth": 1
          },
          "autotypenumbers": "strict",
          "coloraxis": {
           "colorbar": {
            "outlinewidth": 0,
            "ticks": ""
           }
          },
          "colorscale": {
           "diverging": [
            [
             0,
             "#8e0152"
            ],
            [
             0.1,
             "#c51b7d"
            ],
            [
             0.2,
             "#de77ae"
            ],
            [
             0.3,
             "#f1b6da"
            ],
            [
             0.4,
             "#fde0ef"
            ],
            [
             0.5,
             "#f7f7f7"
            ],
            [
             0.6,
             "#e6f5d0"
            ],
            [
             0.7,
             "#b8e186"
            ],
            [
             0.8,
             "#7fbc41"
            ],
            [
             0.9,
             "#4d9221"
            ],
            [
             1,
             "#276419"
            ]
           ],
           "sequential": [
            [
             0,
             "#0d0887"
            ],
            [
             0.1111111111111111,
             "#46039f"
            ],
            [
             0.2222222222222222,
             "#7201a8"
            ],
            [
             0.3333333333333333,
             "#9c179e"
            ],
            [
             0.4444444444444444,
             "#bd3786"
            ],
            [
             0.5555555555555556,
             "#d8576b"
            ],
            [
             0.6666666666666666,
             "#ed7953"
            ],
            [
             0.7777777777777778,
             "#fb9f3a"
            ],
            [
             0.8888888888888888,
             "#fdca26"
            ],
            [
             1,
             "#f0f921"
            ]
           ],
           "sequentialminus": [
            [
             0,
             "#0d0887"
            ],
            [
             0.1111111111111111,
             "#46039f"
            ],
            [
             0.2222222222222222,
             "#7201a8"
            ],
            [
             0.3333333333333333,
             "#9c179e"
            ],
            [
             0.4444444444444444,
             "#bd3786"
            ],
            [
             0.5555555555555556,
             "#d8576b"
            ],
            [
             0.6666666666666666,
             "#ed7953"
            ],
            [
             0.7777777777777778,
             "#fb9f3a"
            ],
            [
             0.8888888888888888,
             "#fdca26"
            ],
            [
             1,
             "#f0f921"
            ]
           ]
          },
          "colorway": [
           "#636efa",
           "#EF553B",
           "#00cc96",
           "#ab63fa",
           "#FFA15A",
           "#19d3f3",
           "#FF6692",
           "#B6E880",
           "#FF97FF",
           "#FECB52"
          ],
          "font": {
           "color": "#2a3f5f"
          },
          "geo": {
           "bgcolor": "white",
           "lakecolor": "white",
           "landcolor": "#E5ECF6",
           "showlakes": true,
           "showland": true,
           "subunitcolor": "white"
          },
          "hoverlabel": {
           "align": "left"
          },
          "hovermode": "closest",
          "mapbox": {
           "style": "light"
          },
          "paper_bgcolor": "white",
          "plot_bgcolor": "#E5ECF6",
          "polar": {
           "angularaxis": {
            "gridcolor": "white",
            "linecolor": "white",
            "ticks": ""
           },
           "bgcolor": "#E5ECF6",
           "radialaxis": {
            "gridcolor": "white",
            "linecolor": "white",
            "ticks": ""
           }
          },
          "scene": {
           "xaxis": {
            "backgroundcolor": "#E5ECF6",
            "gridcolor": "white",
            "gridwidth": 2,
            "linecolor": "white",
            "showbackground": true,
            "ticks": "",
            "zerolinecolor": "white"
           },
           "yaxis": {
            "backgroundcolor": "#E5ECF6",
            "gridcolor": "white",
            "gridwidth": 2,
            "linecolor": "white",
            "showbackground": true,
            "ticks": "",
            "zerolinecolor": "white"
           },
           "zaxis": {
            "backgroundcolor": "#E5ECF6",
            "gridcolor": "white",
            "gridwidth": 2,
            "linecolor": "white",
            "showbackground": true,
            "ticks": "",
            "zerolinecolor": "white"
           }
          },
          "shapedefaults": {
           "line": {
            "color": "#2a3f5f"
           }
          },
          "ternary": {
           "aaxis": {
            "gridcolor": "white",
            "linecolor": "white",
            "ticks": ""
           },
           "baxis": {
            "gridcolor": "white",
            "linecolor": "white",
            "ticks": ""
           },
           "bgcolor": "#E5ECF6",
           "caxis": {
            "gridcolor": "white",
            "linecolor": "white",
            "ticks": ""
           }
          },
          "title": {
           "x": 0.05
          },
          "xaxis": {
           "automargin": true,
           "gridcolor": "white",
           "linecolor": "white",
           "ticks": "",
           "title": {
            "standoff": 15
           },
           "zerolinecolor": "white",
           "zerolinewidth": 2
          },
          "yaxis": {
           "automargin": true,
           "gridcolor": "white",
           "linecolor": "white",
           "ticks": "",
           "title": {
            "standoff": 15
           },
           "zerolinecolor": "white",
           "zerolinewidth": 2
          }
         }
        },
        "title": {
         "text": "Соотношение длительности треков и объема данных"
        },
        "xaxis": {
         "anchor": "y",
         "domain": [
          0,
          1
         ],
         "title": {
          "text": "minutes"
         }
        },
        "yaxis": {
         "anchor": "x",
         "domain": [
          0,
          1
         ],
         "title": {
          "text": "megabytes"
         }
        }
       }
      }
     },
     "metadata": {},
     "output_type": "display_data"
    }
   ],
   "source": [
    "with connect_to('postgres') as pg:\n",
    "    df = pd.read_sql(query, pg)\n",
    "    fig = px.scatter(df, x='minutes', y='megabytes',\\\n",
    "                      title='Соотношение длительности треков и объема данных')\n",
    "    fig.show()"
   ]
  },
  {
   "cell_type": "markdown",
   "id": "52fd8367-b47e-49d0-a0b1-3190abeef684",
   "metadata": {},
   "source": [
    "## Задача 3\n",
    "На основе данных из таблицы *invoice* создайте коробчатую диаграмму, показывающую распределение дохода (поле total) в разбивке по странам.\n"
   ]
  },
  {
   "cell_type": "code",
   "execution_count": 37,
   "id": "d7857695-7c6a-4dad-8dc0-b93953a0173b",
   "metadata": {},
   "outputs": [],
   "source": [
    "query = \"\"\"\n",
    "SELECT billing_country AS country, total\n",
    "FROM invoice\n",
    "\"\"\""
   ]
  },
  {
   "cell_type": "code",
   "execution_count": 38,
   "id": "eb27f255",
   "metadata": {},
   "outputs": [
    {
     "data": {
      "application/vnd.plotly.v1+json": {
       "config": {
        "plotlyServerURL": "https://plot.ly"
       },
       "data": [
        {
         "alignmentgroup": "True",
         "hovertemplate": "country=%{x}<br>total=%{y}<extra></extra>",
         "legendgroup": "",
         "marker": {
          "color": "#636efa"
         },
         "name": "",
         "notched": false,
         "offsetgroup": "",
         "orientation": "v",
         "showlegend": false,
         "type": "box",
         "x": [
          "Germany",
          "Norway",
          "Belgium",
          "Canada",
          "USA",
          "Germany",
          "Germany",
          "France",
          "France",
          "Ireland",
          "United Kingdom",
          "Germany",
          "USA",
          "USA",
          "USA",
          "USA",
          "USA",
          "Canada",
          "France",
          "United Kingdom",
          "Australia",
          "Chile",
          "India",
          "Norway",
          "Brazil",
          "USA",
          "Canada",
          "Portugal",
          "Germany",
          "Germany",
          "France",
          "Netherlands",
          "Chile",
          "Brazil",
          "Brazil",
          "Canada",
          "USA",
          "USA",
          "USA",
          "Germany",
          "Spain",
          "Sweden",
          "United Kingdom",
          "Australia",
          "India",
          "Czech Republic",
          "Canada",
          "Canada",
          "Canada",
          "Canada",
          "Portugal",
          "Germany",
          "Finland",
          "United Kingdom",
          "Belgium",
          "Denmark",
          "Brazil",
          "Brazil",
          "USA",
          "USA",
          "Canada",
          "Ireland",
          "Italy",
          "Poland",
          "Sweden",
          "Australia",
          "Germany",
          "Brazil",
          "USA",
          "USA",
          "USA",
          "Canada",
          "Portugal",
          "France",
          "Poland",
          "Norway",
          "Czech Republic",
          "Austria",
          "Denmark",
          "Brazil",
          "USA",
          "USA",
          "France",
          "France",
          "Hungary",
          "Italy",
          "Sweden",
          "Chile",
          "Austria",
          "USA",
          "USA",
          "USA",
          "USA",
          "Canada",
          "Germany",
          "Hungary",
          "India",
          "Brazil",
          "Canada",
          "Czech Republic",
          "Denmark",
          "Canada",
          "USA",
          "Germany",
          "France",
          "France",
          "France",
          "Italy",
          "United Kingdom",
          "Canada",
          "USA",
          "USA",
          "USA",
          "USA",
          "USA",
          "Canada",
          "France",
          "Australia",
          "Argentina",
          "India",
          "Brazil",
          "Czech Republic",
          "Brazil",
          "USA",
          "Portugal",
          "Portugal",
          "Germany",
          "France",
          "France",
          "Poland",
          "India",
          "Brazil",
          "Canada",
          "USA",
          "USA",
          "USA",
          "USA",
          "Germany",
          "Sweden",
          "United Kingdom",
          "United Kingdom",
          "Argentina",
          "Brazil",
          "Austria",
          "USA",
          "Canada",
          "Canada",
          "Canada",
          "Portugal",
          "France",
          "Hungary",
          "United Kingdom",
          "Denmark",
          "Brazil",
          "Brazil",
          "Canada",
          "USA",
          "USA",
          "Canada",
          "Italy",
          "Netherlands",
          "Spain",
          "United Kingdom",
          "Argentina",
          "Canada",
          "Brazil",
          "USA",
          "USA",
          "Canada",
          "Canada",
          "Portugal",
          "France",
          "Spain",
          "Czech Republic",
          "Czech Republic",
          "Belgium",
          "Brazil",
          "Canada",
          "USA",
          "Canada",
          "France",
          "Finland",
          "Ireland",
          "Netherlands",
          "United Kingdom",
          "India",
          "Belgium",
          "USA",
          "USA",
          "USA",
          "USA",
          "Canada",
          "Germany",
          "Ireland",
          "Brazil",
          "Germany",
          "Norway",
          "Czech Republic",
          "Brazil",
          "USA",
          "USA",
          "France",
          "France",
          "France",
          "Finland",
          "Netherlands",
          "United Kingdom",
          "Norway",
          "USA",
          "USA",
          "USA",
          "USA",
          "USA",
          "Canada",
          "France",
          "Argentina",
          "Chile",
          "India",
          "Germany",
          "Czech Republic",
          "Brazil",
          "USA",
          "Portugal",
          "Germany",
          "Germany",
          "France",
          "Finland",
          "Spain",
          "India",
          "Canada",
          "Canada",
          "USA",
          "USA",
          "USA",
          "Canada",
          "Germany",
          "United Kingdom",
          "United Kingdom",
          "Australia",
          "Chile",
          "Germany",
          "Belgium",
          "USA",
          "Canada",
          "Canada",
          "Portugal",
          "Germany",
          "France",
          "Ireland",
          "Australia",
          "Brazil",
          "Brazil",
          "Brazil",
          "Canada",
          "USA",
          "USA",
          "Portugal",
          "Netherlands",
          "Poland",
          "Sweden",
          "United Kingdom",
          "Chile",
          "Norway",
          "Brazil",
          "USA",
          "USA",
          "Canada",
          "Canada",
          "Germany",
          "France",
          "Sweden",
          "Czech Republic",
          "Austria",
          "Denmark",
          "Brazil",
          "Canada",
          "USA",
          "Canada",
          "Finland",
          "Hungary",
          "Italy",
          "Poland",
          "United Kingdom",
          "India",
          "Denmark",
          "USA",
          "USA",
          "USA",
          "USA",
          "Canada",
          "Germany",
          "Italy",
          "Germany",
          "Canada",
          "Czech Republic",
          "Austria",
          "Brazil",
          "USA",
          "USA",
          "France",
          "France",
          "France",
          "Hungary",
          "Poland",
          "Australia",
          "Czech Republic",
          "USA",
          "USA",
          "USA",
          "USA",
          "USA",
          "Portugal",
          "France",
          "Chile",
          "India",
          "Brazil",
          "Canada",
          "Austria",
          "Brazil",
          "USA",
          "Germany",
          "Germany",
          "France",
          "France",
          "Hungary",
          "Sweden",
          "Brazil",
          "Canada",
          "USA",
          "USA",
          "USA",
          "USA",
          "Canada",
          "France",
          "United Kingdom",
          "United Kingdom",
          "Argentina",
          "India",
          "Canada",
          "Denmark",
          "USA",
          "Canada",
          "Canada",
          "Portugal",
          "Germany",
          "France",
          "Italy",
          "Argentina",
          "Brazil",
          "Brazil",
          "Canada",
          "USA",
          "USA",
          "USA",
          "Portugal",
          "Poland",
          "Spain",
          "United Kingdom",
          "United Kingdom",
          "India",
          "Czech Republic",
          "Canada",
          "USA",
          "Canada",
          "Canada",
          "Canada",
          "Germany",
          "France",
          "United Kingdom",
          "Austria",
          "Belgium",
          "Brazil",
          "Brazil",
          "USA",
          "USA",
          "Canada",
          "Hungary",
          "Ireland",
          "Netherlands",
          "Spain",
          "United Kingdom",
          "Brazil",
          "Brazil",
          "USA",
          "USA",
          "USA",
          "Canada",
          "Canada",
          "France",
          "Netherlands",
          "Canada",
          "Norway",
          "Czech Republic",
          "Belgium",
          "Brazil",
          "USA",
          "USA",
          "France",
          "France",
          "Finland",
          "Ireland",
          "Spain",
          "Argentina",
          "Czech Republic",
          "USA",
          "USA",
          "USA",
          "USA",
          "Canada",
          "Portugal",
          "Finland",
          "India"
         ],
         "x0": " ",
         "xaxis": "x",
         "y": [
          1.98,
          3.96,
          5.94,
          8.91,
          13.86,
          0.99,
          1.98,
          1.98,
          3.96,
          5.94,
          8.91,
          13.86,
          0.99,
          1.98,
          1.98,
          3.96,
          5.94,
          8.91,
          13.86,
          0.99,
          1.98,
          1.98,
          3.96,
          5.94,
          8.91,
          13.86,
          0.99,
          1.98,
          1.98,
          3.96,
          5.94,
          8.91,
          13.86,
          0.99,
          1.98,
          1.98,
          3.96,
          5.94,
          8.91,
          13.86,
          0.99,
          1.98,
          1.98,
          3.96,
          5.94,
          8.91,
          13.86,
          0.99,
          1.98,
          1.98,
          3.96,
          5.94,
          8.91,
          13.86,
          0.99,
          1.98,
          1.98,
          3.96,
          5.94,
          8.91,
          13.86,
          0.99,
          1.98,
          1.98,
          3.96,
          5.94,
          8.91,
          13.86,
          0.99,
          1.98,
          1.98,
          3.96,
          5.94,
          8.91,
          13.86,
          0.99,
          1.98,
          1.98,
          3.96,
          5.94,
          8.91,
          13.86,
          0.99,
          1.98,
          1.98,
          3.96,
          6.94,
          17.91,
          18.86,
          0.99,
          1.98,
          1.98,
          3.96,
          5.94,
          8.91,
          21.86,
          1.99,
          3.98,
          3.98,
          3.96,
          5.94,
          9.91,
          15.86,
          0.99,
          1.98,
          1.98,
          3.96,
          5.94,
          8.91,
          13.86,
          0.99,
          1.98,
          1.98,
          3.96,
          5.94,
          8.91,
          13.86,
          0.99,
          1.98,
          1.98,
          3.96,
          5.94,
          8.91,
          13.86,
          0.99,
          1.98,
          1.98,
          3.96,
          5.94,
          8.91,
          13.86,
          0.99,
          1.98,
          1.98,
          3.96,
          5.94,
          8.91,
          13.86,
          0.99,
          1.98,
          1.98,
          3.96,
          5.94,
          8.91,
          13.86,
          0.99,
          1.98,
          1.98,
          3.96,
          5.94,
          8.91,
          13.86,
          0.99,
          1.98,
          1.98,
          3.96,
          5.94,
          8.91,
          13.86,
          0.99,
          1.98,
          1.98,
          3.96,
          5.94,
          8.91,
          13.86,
          0.99,
          1.98,
          1.98,
          3.96,
          5.94,
          8.91,
          13.86,
          0.99,
          1.98,
          1.98,
          3.96,
          5.94,
          8.91,
          13.86,
          0.99,
          1.98,
          1.98,
          3.96,
          5.94,
          8.91,
          13.86,
          0.99,
          1.98,
          1.98,
          3.96,
          5.94,
          14.91,
          21.86,
          0.99,
          1.98,
          1.98,
          3.96,
          5.94,
          8.91,
          18.86,
          1.99,
          2.98,
          3.98,
          7.96,
          8.94,
          8.91,
          15.86,
          0.99,
          1.98,
          1.98,
          3.96,
          5.94,
          8.91,
          13.86,
          0.99,
          1.98,
          1.98,
          3.96,
          5.94,
          8.91,
          13.86,
          0.99,
          1.98,
          1.98,
          3.96,
          5.94,
          8.91,
          13.86,
          0.99,
          1.98,
          1.98,
          3.96,
          5.94,
          8.91,
          13.86,
          0.99,
          1.98,
          1.98,
          3.96,
          5.94,
          8.91,
          13.86,
          0.99,
          1.98,
          1.98,
          3.96,
          5.94,
          8.91,
          13.86,
          0.99,
          1.98,
          1.98,
          3.96,
          5.94,
          8.91,
          13.86,
          0.99,
          1.98,
          1.98,
          3.96,
          5.94,
          8.91,
          13.86,
          0.99,
          1.98,
          1.98,
          3.96,
          5.94,
          8.91,
          13.86,
          0.99,
          1.98,
          1.98,
          3.96,
          5.94,
          8.91,
          13.86,
          0.99,
          1.98,
          1.98,
          3.96,
          5.94,
          8.91,
          13.86,
          0.99,
          1.98,
          1.98,
          3.96,
          5.94,
          8.91,
          13.86,
          0.99,
          1.98,
          1.98,
          3.96,
          5.94,
          10.91,
          23.86,
          0.99,
          1.98,
          1.98,
          3.96,
          5.94,
          8.91,
          16.86,
          1.99,
          3.98,
          3.98,
          7.96,
          11.94,
          10.91,
          16.86,
          0.99,
          1.98,
          1.98,
          3.96,
          5.94,
          8.91,
          13.86,
          0.99,
          1.98,
          1.98,
          3.96,
          5.94,
          8.91,
          13.86,
          0.99,
          1.98,
          1.98,
          3.96,
          5.94,
          8.91,
          13.86,
          0.99,
          1.98,
          1.98,
          3.96,
          5.94,
          8.91,
          13.86,
          0.99,
          1.98,
          1.98,
          3.96,
          5.94,
          8.91,
          13.86,
          0.99,
          1.98,
          1.98,
          3.96,
          5.94,
          8.91,
          13.86,
          0.99,
          1.98,
          1.98,
          3.96,
          5.94,
          8.91,
          13.86,
          0.99,
          1.98,
          1.98,
          3.96,
          5.94,
          8.91,
          13.86,
          0.99,
          1.98,
          1.98,
          3.96,
          5.94,
          8.91,
          13.86,
          0.99,
          1.98,
          1.98,
          3.96,
          5.94,
          8.91,
          13.86,
          0.99,
          1.98,
          1.98,
          3.96,
          5.94,
          8.91,
          13.86,
          0.99,
          1.98,
          1.98,
          3.96,
          5.94,
          8.91,
          13.86,
          0.99,
          1.98,
          1.98,
          3.96,
          5.94,
          8.91,
          25.86,
          0.99,
          1.98,
          1.98,
          3.96,
          5.94,
          8.91,
          13.86,
          1.99
         ],
         "y0": " ",
         "yaxis": "y"
        }
       ],
       "layout": {
        "boxmode": "group",
        "legend": {
         "tracegroupgap": 0
        },
        "template": {
         "data": {
          "bar": [
           {
            "error_x": {
             "color": "#2a3f5f"
            },
            "error_y": {
             "color": "#2a3f5f"
            },
            "marker": {
             "line": {
              "color": "#E5ECF6",
              "width": 0.5
             },
             "pattern": {
              "fillmode": "overlay",
              "size": 10,
              "solidity": 0.2
             }
            },
            "type": "bar"
           }
          ],
          "barpolar": [
           {
            "marker": {
             "line": {
              "color": "#E5ECF6",
              "width": 0.5
             },
             "pattern": {
              "fillmode": "overlay",
              "size": 10,
              "solidity": 0.2
             }
            },
            "type": "barpolar"
           }
          ],
          "carpet": [
           {
            "aaxis": {
             "endlinecolor": "#2a3f5f",
             "gridcolor": "white",
             "linecolor": "white",
             "minorgridcolor": "white",
             "startlinecolor": "#2a3f5f"
            },
            "baxis": {
             "endlinecolor": "#2a3f5f",
             "gridcolor": "white",
             "linecolor": "white",
             "minorgridcolor": "white",
             "startlinecolor": "#2a3f5f"
            },
            "type": "carpet"
           }
          ],
          "choropleth": [
           {
            "colorbar": {
             "outlinewidth": 0,
             "ticks": ""
            },
            "type": "choropleth"
           }
          ],
          "contour": [
           {
            "colorbar": {
             "outlinewidth": 0,
             "ticks": ""
            },
            "colorscale": [
             [
              0,
              "#0d0887"
             ],
             [
              0.1111111111111111,
              "#46039f"
             ],
             [
              0.2222222222222222,
              "#7201a8"
             ],
             [
              0.3333333333333333,
              "#9c179e"
             ],
             [
              0.4444444444444444,
              "#bd3786"
             ],
             [
              0.5555555555555556,
              "#d8576b"
             ],
             [
              0.6666666666666666,
              "#ed7953"
             ],
             [
              0.7777777777777778,
              "#fb9f3a"
             ],
             [
              0.8888888888888888,
              "#fdca26"
             ],
             [
              1,
              "#f0f921"
             ]
            ],
            "type": "contour"
           }
          ],
          "contourcarpet": [
           {
            "colorbar": {
             "outlinewidth": 0,
             "ticks": ""
            },
            "type": "contourcarpet"
           }
          ],
          "heatmap": [
           {
            "colorbar": {
             "outlinewidth": 0,
             "ticks": ""
            },
            "colorscale": [
             [
              0,
              "#0d0887"
             ],
             [
              0.1111111111111111,
              "#46039f"
             ],
             [
              0.2222222222222222,
              "#7201a8"
             ],
             [
              0.3333333333333333,
              "#9c179e"
             ],
             [
              0.4444444444444444,
              "#bd3786"
             ],
             [
              0.5555555555555556,
              "#d8576b"
             ],
             [
              0.6666666666666666,
              "#ed7953"
             ],
             [
              0.7777777777777778,
              "#fb9f3a"
             ],
             [
              0.8888888888888888,
              "#fdca26"
             ],
             [
              1,
              "#f0f921"
             ]
            ],
            "type": "heatmap"
           }
          ],
          "heatmapgl": [
           {
            "colorbar": {
             "outlinewidth": 0,
             "ticks": ""
            },
            "colorscale": [
             [
              0,
              "#0d0887"
             ],
             [
              0.1111111111111111,
              "#46039f"
             ],
             [
              0.2222222222222222,
              "#7201a8"
             ],
             [
              0.3333333333333333,
              "#9c179e"
             ],
             [
              0.4444444444444444,
              "#bd3786"
             ],
             [
              0.5555555555555556,
              "#d8576b"
             ],
             [
              0.6666666666666666,
              "#ed7953"
             ],
             [
              0.7777777777777778,
              "#fb9f3a"
             ],
             [
              0.8888888888888888,
              "#fdca26"
             ],
             [
              1,
              "#f0f921"
             ]
            ],
            "type": "heatmapgl"
           }
          ],
          "histogram": [
           {
            "marker": {
             "pattern": {
              "fillmode": "overlay",
              "size": 10,
              "solidity": 0.2
             }
            },
            "type": "histogram"
           }
          ],
          "histogram2d": [
           {
            "colorbar": {
             "outlinewidth": 0,
             "ticks": ""
            },
            "colorscale": [
             [
              0,
              "#0d0887"
             ],
             [
              0.1111111111111111,
              "#46039f"
             ],
             [
              0.2222222222222222,
              "#7201a8"
             ],
             [
              0.3333333333333333,
              "#9c179e"
             ],
             [
              0.4444444444444444,
              "#bd3786"
             ],
             [
              0.5555555555555556,
              "#d8576b"
             ],
             [
              0.6666666666666666,
              "#ed7953"
             ],
             [
              0.7777777777777778,
              "#fb9f3a"
             ],
             [
              0.8888888888888888,
              "#fdca26"
             ],
             [
              1,
              "#f0f921"
             ]
            ],
            "type": "histogram2d"
           }
          ],
          "histogram2dcontour": [
           {
            "colorbar": {
             "outlinewidth": 0,
             "ticks": ""
            },
            "colorscale": [
             [
              0,
              "#0d0887"
             ],
             [
              0.1111111111111111,
              "#46039f"
             ],
             [
              0.2222222222222222,
              "#7201a8"
             ],
             [
              0.3333333333333333,
              "#9c179e"
             ],
             [
              0.4444444444444444,
              "#bd3786"
             ],
             [
              0.5555555555555556,
              "#d8576b"
             ],
             [
              0.6666666666666666,
              "#ed7953"
             ],
             [
              0.7777777777777778,
              "#fb9f3a"
             ],
             [
              0.8888888888888888,
              "#fdca26"
             ],
             [
              1,
              "#f0f921"
             ]
            ],
            "type": "histogram2dcontour"
           }
          ],
          "mesh3d": [
           {
            "colorbar": {
             "outlinewidth": 0,
             "ticks": ""
            },
            "type": "mesh3d"
           }
          ],
          "parcoords": [
           {
            "line": {
             "colorbar": {
              "outlinewidth": 0,
              "ticks": ""
             }
            },
            "type": "parcoords"
           }
          ],
          "pie": [
           {
            "automargin": true,
            "type": "pie"
           }
          ],
          "scatter": [
           {
            "fillpattern": {
             "fillmode": "overlay",
             "size": 10,
             "solidity": 0.2
            },
            "type": "scatter"
           }
          ],
          "scatter3d": [
           {
            "line": {
             "colorbar": {
              "outlinewidth": 0,
              "ticks": ""
             }
            },
            "marker": {
             "colorbar": {
              "outlinewidth": 0,
              "ticks": ""
             }
            },
            "type": "scatter3d"
           }
          ],
          "scattercarpet": [
           {
            "marker": {
             "colorbar": {
              "outlinewidth": 0,
              "ticks": ""
             }
            },
            "type": "scattercarpet"
           }
          ],
          "scattergeo": [
           {
            "marker": {
             "colorbar": {
              "outlinewidth": 0,
              "ticks": ""
             }
            },
            "type": "scattergeo"
           }
          ],
          "scattergl": [
           {
            "marker": {
             "colorbar": {
              "outlinewidth": 0,
              "ticks": ""
             }
            },
            "type": "scattergl"
           }
          ],
          "scattermapbox": [
           {
            "marker": {
             "colorbar": {
              "outlinewidth": 0,
              "ticks": ""
             }
            },
            "type": "scattermapbox"
           }
          ],
          "scatterpolar": [
           {
            "marker": {
             "colorbar": {
              "outlinewidth": 0,
              "ticks": ""
             }
            },
            "type": "scatterpolar"
           }
          ],
          "scatterpolargl": [
           {
            "marker": {
             "colorbar": {
              "outlinewidth": 0,
              "ticks": ""
             }
            },
            "type": "scatterpolargl"
           }
          ],
          "scatterternary": [
           {
            "marker": {
             "colorbar": {
              "outlinewidth": 0,
              "ticks": ""
             }
            },
            "type": "scatterternary"
           }
          ],
          "surface": [
           {
            "colorbar": {
             "outlinewidth": 0,
             "ticks": ""
            },
            "colorscale": [
             [
              0,
              "#0d0887"
             ],
             [
              0.1111111111111111,
              "#46039f"
             ],
             [
              0.2222222222222222,
              "#7201a8"
             ],
             [
              0.3333333333333333,
              "#9c179e"
             ],
             [
              0.4444444444444444,
              "#bd3786"
             ],
             [
              0.5555555555555556,
              "#d8576b"
             ],
             [
              0.6666666666666666,
              "#ed7953"
             ],
             [
              0.7777777777777778,
              "#fb9f3a"
             ],
             [
              0.8888888888888888,
              "#fdca26"
             ],
             [
              1,
              "#f0f921"
             ]
            ],
            "type": "surface"
           }
          ],
          "table": [
           {
            "cells": {
             "fill": {
              "color": "#EBF0F8"
             },
             "line": {
              "color": "white"
             }
            },
            "header": {
             "fill": {
              "color": "#C8D4E3"
             },
             "line": {
              "color": "white"
             }
            },
            "type": "table"
           }
          ]
         },
         "layout": {
          "annotationdefaults": {
           "arrowcolor": "#2a3f5f",
           "arrowhead": 0,
           "arrowwidth": 1
          },
          "autotypenumbers": "strict",
          "coloraxis": {
           "colorbar": {
            "outlinewidth": 0,
            "ticks": ""
           }
          },
          "colorscale": {
           "diverging": [
            [
             0,
             "#8e0152"
            ],
            [
             0.1,
             "#c51b7d"
            ],
            [
             0.2,
             "#de77ae"
            ],
            [
             0.3,
             "#f1b6da"
            ],
            [
             0.4,
             "#fde0ef"
            ],
            [
             0.5,
             "#f7f7f7"
            ],
            [
             0.6,
             "#e6f5d0"
            ],
            [
             0.7,
             "#b8e186"
            ],
            [
             0.8,
             "#7fbc41"
            ],
            [
             0.9,
             "#4d9221"
            ],
            [
             1,
             "#276419"
            ]
           ],
           "sequential": [
            [
             0,
             "#0d0887"
            ],
            [
             0.1111111111111111,
             "#46039f"
            ],
            [
             0.2222222222222222,
             "#7201a8"
            ],
            [
             0.3333333333333333,
             "#9c179e"
            ],
            [
             0.4444444444444444,
             "#bd3786"
            ],
            [
             0.5555555555555556,
             "#d8576b"
            ],
            [
             0.6666666666666666,
             "#ed7953"
            ],
            [
             0.7777777777777778,
             "#fb9f3a"
            ],
            [
             0.8888888888888888,
             "#fdca26"
            ],
            [
             1,
             "#f0f921"
            ]
           ],
           "sequentialminus": [
            [
             0,
             "#0d0887"
            ],
            [
             0.1111111111111111,
             "#46039f"
            ],
            [
             0.2222222222222222,
             "#7201a8"
            ],
            [
             0.3333333333333333,
             "#9c179e"
            ],
            [
             0.4444444444444444,
             "#bd3786"
            ],
            [
             0.5555555555555556,
             "#d8576b"
            ],
            [
             0.6666666666666666,
             "#ed7953"
            ],
            [
             0.7777777777777778,
             "#fb9f3a"
            ],
            [
             0.8888888888888888,
             "#fdca26"
            ],
            [
             1,
             "#f0f921"
            ]
           ]
          },
          "colorway": [
           "#636efa",
           "#EF553B",
           "#00cc96",
           "#ab63fa",
           "#FFA15A",
           "#19d3f3",
           "#FF6692",
           "#B6E880",
           "#FF97FF",
           "#FECB52"
          ],
          "font": {
           "color": "#2a3f5f"
          },
          "geo": {
           "bgcolor": "white",
           "lakecolor": "white",
           "landcolor": "#E5ECF6",
           "showlakes": true,
           "showland": true,
           "subunitcolor": "white"
          },
          "hoverlabel": {
           "align": "left"
          },
          "hovermode": "closest",
          "mapbox": {
           "style": "light"
          },
          "paper_bgcolor": "white",
          "plot_bgcolor": "#E5ECF6",
          "polar": {
           "angularaxis": {
            "gridcolor": "white",
            "linecolor": "white",
            "ticks": ""
           },
           "bgcolor": "#E5ECF6",
           "radialaxis": {
            "gridcolor": "white",
            "linecolor": "white",
            "ticks": ""
           }
          },
          "scene": {
           "xaxis": {
            "backgroundcolor": "#E5ECF6",
            "gridcolor": "white",
            "gridwidth": 2,
            "linecolor": "white",
            "showbackground": true,
            "ticks": "",
            "zerolinecolor": "white"
           },
           "yaxis": {
            "backgroundcolor": "#E5ECF6",
            "gridcolor": "white",
            "gridwidth": 2,
            "linecolor": "white",
            "showbackground": true,
            "ticks": "",
            "zerolinecolor": "white"
           },
           "zaxis": {
            "backgroundcolor": "#E5ECF6",
            "gridcolor": "white",
            "gridwidth": 2,
            "linecolor": "white",
            "showbackground": true,
            "ticks": "",
            "zerolinecolor": "white"
           }
          },
          "shapedefaults": {
           "line": {
            "color": "#2a3f5f"
           }
          },
          "ternary": {
           "aaxis": {
            "gridcolor": "white",
            "linecolor": "white",
            "ticks": ""
           },
           "baxis": {
            "gridcolor": "white",
            "linecolor": "white",
            "ticks": ""
           },
           "bgcolor": "#E5ECF6",
           "caxis": {
            "gridcolor": "white",
            "linecolor": "white",
            "ticks": ""
           }
          },
          "title": {
           "x": 0.05
          },
          "xaxis": {
           "automargin": true,
           "gridcolor": "white",
           "linecolor": "white",
           "ticks": "",
           "title": {
            "standoff": 15
           },
           "zerolinecolor": "white",
           "zerolinewidth": 2
          },
          "yaxis": {
           "automargin": true,
           "gridcolor": "white",
           "linecolor": "white",
           "ticks": "",
           "title": {
            "standoff": 15
           },
           "zerolinecolor": "white",
           "zerolinewidth": 2
          }
         }
        },
        "title": {
         "text": "Распределение дохода по странам"
        },
        "xaxis": {
         "anchor": "y",
         "domain": [
          0,
          1
         ],
         "title": {
          "text": "country"
         }
        },
        "yaxis": {
         "anchor": "x",
         "domain": [
          0,
          1
         ],
         "title": {
          "text": "total"
         }
        }
       }
      }
     },
     "metadata": {},
     "output_type": "display_data"
    }
   ],
   "source": [
    "with connect_to('postgres') as pg:\n",
    "    df = pd.read_sql(query, pg)\n",
    "    fig = px.box(df, x='country', y='total',\\\n",
    "                  title='Распределение дохода по странам')\n",
    "    fig.show()"
   ]
  },
  {
   "cell_type": "markdown",
   "id": "59c4f01d",
   "metadata": {},
   "source": [
    "## Задача 4\n",
    "На основе данных из таблицы *invoice* создайте линейчатую диаграмму, показывающую изменение дохода по месяцам за 2025 год.\n"
   ]
  },
  {
   "cell_type": "code",
   "execution_count": 39,
   "id": "9e36334d",
   "metadata": {},
   "outputs": [],
   "source": [
    "query = \"\"\"\n",
    "SELECT DATE_TRUNC('month', invoice_date) AS month, SUM(total) AS total_income\n",
    "FROM invoice\n",
    "WHERE EXTRACT(YEAR FROM invoice_date) = 2025\n",
    "GROUP BY month\n",
    "ORDER BY month\n",
    "\"\"\""
   ]
  },
  {
   "cell_type": "code",
   "execution_count": 40,
   "id": "ecf83eb4",
   "metadata": {},
   "outputs": [
    {
     "data": {
      "application/vnd.plotly.v1+json": {
       "config": {
        "plotlyServerURL": "https://plot.ly"
       },
       "data": [
        {
         "hovertemplate": "month=%{x}<br>total_income=%{y}<extra></extra>",
         "legendgroup": "",
         "line": {
          "color": "#636efa",
          "dash": "solid"
         },
         "marker": {
          "symbol": "circle"
         },
         "mode": "lines",
         "name": "",
         "orientation": "v",
         "showlegend": false,
         "type": "scatter",
         "x": [
          "2025-01-01T00:00:00",
          "2025-02-01T00:00:00",
          "2025-03-01T00:00:00",
          "2025-04-01T00:00:00",
          "2025-05-01T00:00:00",
          "2025-06-01T00:00:00",
          "2025-07-01T00:00:00",
          "2025-08-01T00:00:00",
          "2025-09-01T00:00:00",
          "2025-10-01T00:00:00",
          "2025-11-01T00:00:00",
          "2025-12-01T00:00:00"
         ],
         "xaxis": "x",
         "y": [
          37.62,
          27.72,
          37.62,
          33.66,
          37.62,
          37.62,
          37.62,
          37.62,
          37.62,
          37.62,
          49.62,
          38.62
         ],
         "yaxis": "y"
        }
       ],
       "layout": {
        "legend": {
         "tracegroupgap": 0
        },
        "template": {
         "data": {
          "bar": [
           {
            "error_x": {
             "color": "#2a3f5f"
            },
            "error_y": {
             "color": "#2a3f5f"
            },
            "marker": {
             "line": {
              "color": "#E5ECF6",
              "width": 0.5
             },
             "pattern": {
              "fillmode": "overlay",
              "size": 10,
              "solidity": 0.2
             }
            },
            "type": "bar"
           }
          ],
          "barpolar": [
           {
            "marker": {
             "line": {
              "color": "#E5ECF6",
              "width": 0.5
             },
             "pattern": {
              "fillmode": "overlay",
              "size": 10,
              "solidity": 0.2
             }
            },
            "type": "barpolar"
           }
          ],
          "carpet": [
           {
            "aaxis": {
             "endlinecolor": "#2a3f5f",
             "gridcolor": "white",
             "linecolor": "white",
             "minorgridcolor": "white",
             "startlinecolor": "#2a3f5f"
            },
            "baxis": {
             "endlinecolor": "#2a3f5f",
             "gridcolor": "white",
             "linecolor": "white",
             "minorgridcolor": "white",
             "startlinecolor": "#2a3f5f"
            },
            "type": "carpet"
           }
          ],
          "choropleth": [
           {
            "colorbar": {
             "outlinewidth": 0,
             "ticks": ""
            },
            "type": "choropleth"
           }
          ],
          "contour": [
           {
            "colorbar": {
             "outlinewidth": 0,
             "ticks": ""
            },
            "colorscale": [
             [
              0,
              "#0d0887"
             ],
             [
              0.1111111111111111,
              "#46039f"
             ],
             [
              0.2222222222222222,
              "#7201a8"
             ],
             [
              0.3333333333333333,
              "#9c179e"
             ],
             [
              0.4444444444444444,
              "#bd3786"
             ],
             [
              0.5555555555555556,
              "#d8576b"
             ],
             [
              0.6666666666666666,
              "#ed7953"
             ],
             [
              0.7777777777777778,
              "#fb9f3a"
             ],
             [
              0.8888888888888888,
              "#fdca26"
             ],
             [
              1,
              "#f0f921"
             ]
            ],
            "type": "contour"
           }
          ],
          "contourcarpet": [
           {
            "colorbar": {
             "outlinewidth": 0,
             "ticks": ""
            },
            "type": "contourcarpet"
           }
          ],
          "heatmap": [
           {
            "colorbar": {
             "outlinewidth": 0,
             "ticks": ""
            },
            "colorscale": [
             [
              0,
              "#0d0887"
             ],
             [
              0.1111111111111111,
              "#46039f"
             ],
             [
              0.2222222222222222,
              "#7201a8"
             ],
             [
              0.3333333333333333,
              "#9c179e"
             ],
             [
              0.4444444444444444,
              "#bd3786"
             ],
             [
              0.5555555555555556,
              "#d8576b"
             ],
             [
              0.6666666666666666,
              "#ed7953"
             ],
             [
              0.7777777777777778,
              "#fb9f3a"
             ],
             [
              0.8888888888888888,
              "#fdca26"
             ],
             [
              1,
              "#f0f921"
             ]
            ],
            "type": "heatmap"
           }
          ],
          "heatmapgl": [
           {
            "colorbar": {
             "outlinewidth": 0,
             "ticks": ""
            },
            "colorscale": [
             [
              0,
              "#0d0887"
             ],
             [
              0.1111111111111111,
              "#46039f"
             ],
             [
              0.2222222222222222,
              "#7201a8"
             ],
             [
              0.3333333333333333,
              "#9c179e"
             ],
             [
              0.4444444444444444,
              "#bd3786"
             ],
             [
              0.5555555555555556,
              "#d8576b"
             ],
             [
              0.6666666666666666,
              "#ed7953"
             ],
             [
              0.7777777777777778,
              "#fb9f3a"
             ],
             [
              0.8888888888888888,
              "#fdca26"
             ],
             [
              1,
              "#f0f921"
             ]
            ],
            "type": "heatmapgl"
           }
          ],
          "histogram": [
           {
            "marker": {
             "pattern": {
              "fillmode": "overlay",
              "size": 10,
              "solidity": 0.2
             }
            },
            "type": "histogram"
           }
          ],
          "histogram2d": [
           {
            "colorbar": {
             "outlinewidth": 0,
             "ticks": ""
            },
            "colorscale": [
             [
              0,
              "#0d0887"
             ],
             [
              0.1111111111111111,
              "#46039f"
             ],
             [
              0.2222222222222222,
              "#7201a8"
             ],
             [
              0.3333333333333333,
              "#9c179e"
             ],
             [
              0.4444444444444444,
              "#bd3786"
             ],
             [
              0.5555555555555556,
              "#d8576b"
             ],
             [
              0.6666666666666666,
              "#ed7953"
             ],
             [
              0.7777777777777778,
              "#fb9f3a"
             ],
             [
              0.8888888888888888,
              "#fdca26"
             ],
             [
              1,
              "#f0f921"
             ]
            ],
            "type": "histogram2d"
           }
          ],
          "histogram2dcontour": [
           {
            "colorbar": {
             "outlinewidth": 0,
             "ticks": ""
            },
            "colorscale": [
             [
              0,
              "#0d0887"
             ],
             [
              0.1111111111111111,
              "#46039f"
             ],
             [
              0.2222222222222222,
              "#7201a8"
             ],
             [
              0.3333333333333333,
              "#9c179e"
             ],
             [
              0.4444444444444444,
              "#bd3786"
             ],
             [
              0.5555555555555556,
              "#d8576b"
             ],
             [
              0.6666666666666666,
              "#ed7953"
             ],
             [
              0.7777777777777778,
              "#fb9f3a"
             ],
             [
              0.8888888888888888,
              "#fdca26"
             ],
             [
              1,
              "#f0f921"
             ]
            ],
            "type": "histogram2dcontour"
           }
          ],
          "mesh3d": [
           {
            "colorbar": {
             "outlinewidth": 0,
             "ticks": ""
            },
            "type": "mesh3d"
           }
          ],
          "parcoords": [
           {
            "line": {
             "colorbar": {
              "outlinewidth": 0,
              "ticks": ""
             }
            },
            "type": "parcoords"
           }
          ],
          "pie": [
           {
            "automargin": true,
            "type": "pie"
           }
          ],
          "scatter": [
           {
            "fillpattern": {
             "fillmode": "overlay",
             "size": 10,
             "solidity": 0.2
            },
            "type": "scatter"
           }
          ],
          "scatter3d": [
           {
            "line": {
             "colorbar": {
              "outlinewidth": 0,
              "ticks": ""
             }
            },
            "marker": {
             "colorbar": {
              "outlinewidth": 0,
              "ticks": ""
             }
            },
            "type": "scatter3d"
           }
          ],
          "scattercarpet": [
           {
            "marker": {
             "colorbar": {
              "outlinewidth": 0,
              "ticks": ""
             }
            },
            "type": "scattercarpet"
           }
          ],
          "scattergeo": [
           {
            "marker": {
             "colorbar": {
              "outlinewidth": 0,
              "ticks": ""
             }
            },
            "type": "scattergeo"
           }
          ],
          "scattergl": [
           {
            "marker": {
             "colorbar": {
              "outlinewidth": 0,
              "ticks": ""
             }
            },
            "type": "scattergl"
           }
          ],
          "scattermapbox": [
           {
            "marker": {
             "colorbar": {
              "outlinewidth": 0,
              "ticks": ""
             }
            },
            "type": "scattermapbox"
           }
          ],
          "scatterpolar": [
           {
            "marker": {
             "colorbar": {
              "outlinewidth": 0,
              "ticks": ""
             }
            },
            "type": "scatterpolar"
           }
          ],
          "scatterpolargl": [
           {
            "marker": {
             "colorbar": {
              "outlinewidth": 0,
              "ticks": ""
             }
            },
            "type": "scatterpolargl"
           }
          ],
          "scatterternary": [
           {
            "marker": {
             "colorbar": {
              "outlinewidth": 0,
              "ticks": ""
             }
            },
            "type": "scatterternary"
           }
          ],
          "surface": [
           {
            "colorbar": {
             "outlinewidth": 0,
             "ticks": ""
            },
            "colorscale": [
             [
              0,
              "#0d0887"
             ],
             [
              0.1111111111111111,
              "#46039f"
             ],
             [
              0.2222222222222222,
              "#7201a8"
             ],
             [
              0.3333333333333333,
              "#9c179e"
             ],
             [
              0.4444444444444444,
              "#bd3786"
             ],
             [
              0.5555555555555556,
              "#d8576b"
             ],
             [
              0.6666666666666666,
              "#ed7953"
             ],
             [
              0.7777777777777778,
              "#fb9f3a"
             ],
             [
              0.8888888888888888,
              "#fdca26"
             ],
             [
              1,
              "#f0f921"
             ]
            ],
            "type": "surface"
           }
          ],
          "table": [
           {
            "cells": {
             "fill": {
              "color": "#EBF0F8"
             },
             "line": {
              "color": "white"
             }
            },
            "header": {
             "fill": {
              "color": "#C8D4E3"
             },
             "line": {
              "color": "white"
             }
            },
            "type": "table"
           }
          ]
         },
         "layout": {
          "annotationdefaults": {
           "arrowcolor": "#2a3f5f",
           "arrowhead": 0,
           "arrowwidth": 1
          },
          "autotypenumbers": "strict",
          "coloraxis": {
           "colorbar": {
            "outlinewidth": 0,
            "ticks": ""
           }
          },
          "colorscale": {
           "diverging": [
            [
             0,
             "#8e0152"
            ],
            [
             0.1,
             "#c51b7d"
            ],
            [
             0.2,
             "#de77ae"
            ],
            [
             0.3,
             "#f1b6da"
            ],
            [
             0.4,
             "#fde0ef"
            ],
            [
             0.5,
             "#f7f7f7"
            ],
            [
             0.6,
             "#e6f5d0"
            ],
            [
             0.7,
             "#b8e186"
            ],
            [
             0.8,
             "#7fbc41"
            ],
            [
             0.9,
             "#4d9221"
            ],
            [
             1,
             "#276419"
            ]
           ],
           "sequential": [
            [
             0,
             "#0d0887"
            ],
            [
             0.1111111111111111,
             "#46039f"
            ],
            [
             0.2222222222222222,
             "#7201a8"
            ],
            [
             0.3333333333333333,
             "#9c179e"
            ],
            [
             0.4444444444444444,
             "#bd3786"
            ],
            [
             0.5555555555555556,
             "#d8576b"
            ],
            [
             0.6666666666666666,
             "#ed7953"
            ],
            [
             0.7777777777777778,
             "#fb9f3a"
            ],
            [
             0.8888888888888888,
             "#fdca26"
            ],
            [
             1,
             "#f0f921"
            ]
           ],
           "sequentialminus": [
            [
             0,
             "#0d0887"
            ],
            [
             0.1111111111111111,
             "#46039f"
            ],
            [
             0.2222222222222222,
             "#7201a8"
            ],
            [
             0.3333333333333333,
             "#9c179e"
            ],
            [
             0.4444444444444444,
             "#bd3786"
            ],
            [
             0.5555555555555556,
             "#d8576b"
            ],
            [
             0.6666666666666666,
             "#ed7953"
            ],
            [
             0.7777777777777778,
             "#fb9f3a"
            ],
            [
             0.8888888888888888,
             "#fdca26"
            ],
            [
             1,
             "#f0f921"
            ]
           ]
          },
          "colorway": [
           "#636efa",
           "#EF553B",
           "#00cc96",
           "#ab63fa",
           "#FFA15A",
           "#19d3f3",
           "#FF6692",
           "#B6E880",
           "#FF97FF",
           "#FECB52"
          ],
          "font": {
           "color": "#2a3f5f"
          },
          "geo": {
           "bgcolor": "white",
           "lakecolor": "white",
           "landcolor": "#E5ECF6",
           "showlakes": true,
           "showland": true,
           "subunitcolor": "white"
          },
          "hoverlabel": {
           "align": "left"
          },
          "hovermode": "closest",
          "mapbox": {
           "style": "light"
          },
          "paper_bgcolor": "white",
          "plot_bgcolor": "#E5ECF6",
          "polar": {
           "angularaxis": {
            "gridcolor": "white",
            "linecolor": "white",
            "ticks": ""
           },
           "bgcolor": "#E5ECF6",
           "radialaxis": {
            "gridcolor": "white",
            "linecolor": "white",
            "ticks": ""
           }
          },
          "scene": {
           "xaxis": {
            "backgroundcolor": "#E5ECF6",
            "gridcolor": "white",
            "gridwidth": 2,
            "linecolor": "white",
            "showbackground": true,
            "ticks": "",
            "zerolinecolor": "white"
           },
           "yaxis": {
            "backgroundcolor": "#E5ECF6",
            "gridcolor": "white",
            "gridwidth": 2,
            "linecolor": "white",
            "showbackground": true,
            "ticks": "",
            "zerolinecolor": "white"
           },
           "zaxis": {
            "backgroundcolor": "#E5ECF6",
            "gridcolor": "white",
            "gridwidth": 2,
            "linecolor": "white",
            "showbackground": true,
            "ticks": "",
            "zerolinecolor": "white"
           }
          },
          "shapedefaults": {
           "line": {
            "color": "#2a3f5f"
           }
          },
          "ternary": {
           "aaxis": {
            "gridcolor": "white",
            "linecolor": "white",
            "ticks": ""
           },
           "baxis": {
            "gridcolor": "white",
            "linecolor": "white",
            "ticks": ""
           },
           "bgcolor": "#E5ECF6",
           "caxis": {
            "gridcolor": "white",
            "linecolor": "white",
            "ticks": ""
           }
          },
          "title": {
           "x": 0.05
          },
          "xaxis": {
           "automargin": true,
           "gridcolor": "white",
           "linecolor": "white",
           "ticks": "",
           "title": {
            "standoff": 15
           },
           "zerolinecolor": "white",
           "zerolinewidth": 2
          },
          "yaxis": {
           "automargin": true,
           "gridcolor": "white",
           "linecolor": "white",
           "ticks": "",
           "title": {
            "standoff": 15
           },
           "zerolinecolor": "white",
           "zerolinewidth": 2
          }
         }
        },
        "title": {
         "text": "Изменение дохода по месяцам за 2025 год"
        },
        "xaxis": {
         "anchor": "y",
         "domain": [
          0,
          1
         ],
         "title": {
          "text": "month"
         }
        },
        "yaxis": {
         "anchor": "x",
         "domain": [
          0,
          1
         ],
         "title": {
          "text": "total_income"
         }
        }
       }
      }
     },
     "metadata": {},
     "output_type": "display_data"
    }
   ],
   "source": [
    "with connect_to('postgres') as pg:\n",
    "    df = pd.read_sql(query, pg)\n",
    "    fig = px.line(df, x='month', y='total_income',\\\n",
    "                   title='Изменение дохода по месяцам за 2025 год')\n",
    "    fig.show()"
   ]
  },
  {
   "cell_type": "markdown",
   "id": "c086bd10",
   "metadata": {},
   "source": [
    "## Задача 5\n",
    "На основе данных из таблицы *invoice*, создайте круговую диаграмму, показывающую соотношение продаж в США и в остальном мире. Т.е. ваша круговая диаграмма должна состоять лишь из двух секций: США и остальной мир.\n"
   ]
  },
  {
   "cell_type": "code",
   "execution_count": 41,
   "id": "531eb529",
   "metadata": {},
   "outputs": [],
   "source": [
    "query = \"\"\"\n",
    "SELECT \n",
    "    CASE \n",
    "        WHEN billing_country = 'USA' THEN 'USA' \n",
    "        ELSE 'Other' \n",
    "    END AS region,\n",
    "    SUM(total) AS total_sales\n",
    "FROM invoice\n",
    "GROUP BY region\n",
    "\"\"\""
   ]
  },
  {
   "cell_type": "code",
   "execution_count": 42,
   "id": "4d199181",
   "metadata": {},
   "outputs": [
    {
     "data": {
      "application/vnd.plotly.v1+json": {
       "config": {
        "plotlyServerURL": "https://plot.ly"
       },
       "data": [
        {
         "domain": {
          "x": [
           0,
           1
          ],
          "y": [
           0,
           1
          ]
         },
         "hovertemplate": "region=%{label}<br>total_sales=%{value}<extra></extra>",
         "labels": [
          "USA",
          "Other"
         ],
         "legendgroup": "",
         "name": "",
         "showlegend": true,
         "type": "pie",
         "values": [
          523.06,
          1805.54
         ]
        }
       ],
       "layout": {
        "legend": {
         "tracegroupgap": 0
        },
        "template": {
         "data": {
          "bar": [
           {
            "error_x": {
             "color": "#2a3f5f"
            },
            "error_y": {
             "color": "#2a3f5f"
            },
            "marker": {
             "line": {
              "color": "#E5ECF6",
              "width": 0.5
             },
             "pattern": {
              "fillmode": "overlay",
              "size": 10,
              "solidity": 0.2
             }
            },
            "type": "bar"
           }
          ],
          "barpolar": [
           {
            "marker": {
             "line": {
              "color": "#E5ECF6",
              "width": 0.5
             },
             "pattern": {
              "fillmode": "overlay",
              "size": 10,
              "solidity": 0.2
             }
            },
            "type": "barpolar"
           }
          ],
          "carpet": [
           {
            "aaxis": {
             "endlinecolor": "#2a3f5f",
             "gridcolor": "white",
             "linecolor": "white",
             "minorgridcolor": "white",
             "startlinecolor": "#2a3f5f"
            },
            "baxis": {
             "endlinecolor": "#2a3f5f",
             "gridcolor": "white",
             "linecolor": "white",
             "minorgridcolor": "white",
             "startlinecolor": "#2a3f5f"
            },
            "type": "carpet"
           }
          ],
          "choropleth": [
           {
            "colorbar": {
             "outlinewidth": 0,
             "ticks": ""
            },
            "type": "choropleth"
           }
          ],
          "contour": [
           {
            "colorbar": {
             "outlinewidth": 0,
             "ticks": ""
            },
            "colorscale": [
             [
              0,
              "#0d0887"
             ],
             [
              0.1111111111111111,
              "#46039f"
             ],
             [
              0.2222222222222222,
              "#7201a8"
             ],
             [
              0.3333333333333333,
              "#9c179e"
             ],
             [
              0.4444444444444444,
              "#bd3786"
             ],
             [
              0.5555555555555556,
              "#d8576b"
             ],
             [
              0.6666666666666666,
              "#ed7953"
             ],
             [
              0.7777777777777778,
              "#fb9f3a"
             ],
             [
              0.8888888888888888,
              "#fdca26"
             ],
             [
              1,
              "#f0f921"
             ]
            ],
            "type": "contour"
           }
          ],
          "contourcarpet": [
           {
            "colorbar": {
             "outlinewidth": 0,
             "ticks": ""
            },
            "type": "contourcarpet"
           }
          ],
          "heatmap": [
           {
            "colorbar": {
             "outlinewidth": 0,
             "ticks": ""
            },
            "colorscale": [
             [
              0,
              "#0d0887"
             ],
             [
              0.1111111111111111,
              "#46039f"
             ],
             [
              0.2222222222222222,
              "#7201a8"
             ],
             [
              0.3333333333333333,
              "#9c179e"
             ],
             [
              0.4444444444444444,
              "#bd3786"
             ],
             [
              0.5555555555555556,
              "#d8576b"
             ],
             [
              0.6666666666666666,
              "#ed7953"
             ],
             [
              0.7777777777777778,
              "#fb9f3a"
             ],
             [
              0.8888888888888888,
              "#fdca26"
             ],
             [
              1,
              "#f0f921"
             ]
            ],
            "type": "heatmap"
           }
          ],
          "heatmapgl": [
           {
            "colorbar": {
             "outlinewidth": 0,
             "ticks": ""
            },
            "colorscale": [
             [
              0,
              "#0d0887"
             ],
             [
              0.1111111111111111,
              "#46039f"
             ],
             [
              0.2222222222222222,
              "#7201a8"
             ],
             [
              0.3333333333333333,
              "#9c179e"
             ],
             [
              0.4444444444444444,
              "#bd3786"
             ],
             [
              0.5555555555555556,
              "#d8576b"
             ],
             [
              0.6666666666666666,
              "#ed7953"
             ],
             [
              0.7777777777777778,
              "#fb9f3a"
             ],
             [
              0.8888888888888888,
              "#fdca26"
             ],
             [
              1,
              "#f0f921"
             ]
            ],
            "type": "heatmapgl"
           }
          ],
          "histogram": [
           {
            "marker": {
             "pattern": {
              "fillmode": "overlay",
              "size": 10,
              "solidity": 0.2
             }
            },
            "type": "histogram"
           }
          ],
          "histogram2d": [
           {
            "colorbar": {
             "outlinewidth": 0,
             "ticks": ""
            },
            "colorscale": [
             [
              0,
              "#0d0887"
             ],
             [
              0.1111111111111111,
              "#46039f"
             ],
             [
              0.2222222222222222,
              "#7201a8"
             ],
             [
              0.3333333333333333,
              "#9c179e"
             ],
             [
              0.4444444444444444,
              "#bd3786"
             ],
             [
              0.5555555555555556,
              "#d8576b"
             ],
             [
              0.6666666666666666,
              "#ed7953"
             ],
             [
              0.7777777777777778,
              "#fb9f3a"
             ],
             [
              0.8888888888888888,
              "#fdca26"
             ],
             [
              1,
              "#f0f921"
             ]
            ],
            "type": "histogram2d"
           }
          ],
          "histogram2dcontour": [
           {
            "colorbar": {
             "outlinewidth": 0,
             "ticks": ""
            },
            "colorscale": [
             [
              0,
              "#0d0887"
             ],
             [
              0.1111111111111111,
              "#46039f"
             ],
             [
              0.2222222222222222,
              "#7201a8"
             ],
             [
              0.3333333333333333,
              "#9c179e"
             ],
             [
              0.4444444444444444,
              "#bd3786"
             ],
             [
              0.5555555555555556,
              "#d8576b"
             ],
             [
              0.6666666666666666,
              "#ed7953"
             ],
             [
              0.7777777777777778,
              "#fb9f3a"
             ],
             [
              0.8888888888888888,
              "#fdca26"
             ],
             [
              1,
              "#f0f921"
             ]
            ],
            "type": "histogram2dcontour"
           }
          ],
          "mesh3d": [
           {
            "colorbar": {
             "outlinewidth": 0,
             "ticks": ""
            },
            "type": "mesh3d"
           }
          ],
          "parcoords": [
           {
            "line": {
             "colorbar": {
              "outlinewidth": 0,
              "ticks": ""
             }
            },
            "type": "parcoords"
           }
          ],
          "pie": [
           {
            "automargin": true,
            "type": "pie"
           }
          ],
          "scatter": [
           {
            "fillpattern": {
             "fillmode": "overlay",
             "size": 10,
             "solidity": 0.2
            },
            "type": "scatter"
           }
          ],
          "scatter3d": [
           {
            "line": {
             "colorbar": {
              "outlinewidth": 0,
              "ticks": ""
             }
            },
            "marker": {
             "colorbar": {
              "outlinewidth": 0,
              "ticks": ""
             }
            },
            "type": "scatter3d"
           }
          ],
          "scattercarpet": [
           {
            "marker": {
             "colorbar": {
              "outlinewidth": 0,
              "ticks": ""
             }
            },
            "type": "scattercarpet"
           }
          ],
          "scattergeo": [
           {
            "marker": {
             "colorbar": {
              "outlinewidth": 0,
              "ticks": ""
             }
            },
            "type": "scattergeo"
           }
          ],
          "scattergl": [
           {
            "marker": {
             "colorbar": {
              "outlinewidth": 0,
              "ticks": ""
             }
            },
            "type": "scattergl"
           }
          ],
          "scattermapbox": [
           {
            "marker": {
             "colorbar": {
              "outlinewidth": 0,
              "ticks": ""
             }
            },
            "type": "scattermapbox"
           }
          ],
          "scatterpolar": [
           {
            "marker": {
             "colorbar": {
              "outlinewidth": 0,
              "ticks": ""
             }
            },
            "type": "scatterpolar"
           }
          ],
          "scatterpolargl": [
           {
            "marker": {
             "colorbar": {
              "outlinewidth": 0,
              "ticks": ""
             }
            },
            "type": "scatterpolargl"
           }
          ],
          "scatterternary": [
           {
            "marker": {
             "colorbar": {
              "outlinewidth": 0,
              "ticks": ""
             }
            },
            "type": "scatterternary"
           }
          ],
          "surface": [
           {
            "colorbar": {
             "outlinewidth": 0,
             "ticks": ""
            },
            "colorscale": [
             [
              0,
              "#0d0887"
             ],
             [
              0.1111111111111111,
              "#46039f"
             ],
             [
              0.2222222222222222,
              "#7201a8"
             ],
             [
              0.3333333333333333,
              "#9c179e"
             ],
             [
              0.4444444444444444,
              "#bd3786"
             ],
             [
              0.5555555555555556,
              "#d8576b"
             ],
             [
              0.6666666666666666,
              "#ed7953"
             ],
             [
              0.7777777777777778,
              "#fb9f3a"
             ],
             [
              0.8888888888888888,
              "#fdca26"
             ],
             [
              1,
              "#f0f921"
             ]
            ],
            "type": "surface"
           }
          ],
          "table": [
           {
            "cells": {
             "fill": {
              "color": "#EBF0F8"
             },
             "line": {
              "color": "white"
             }
            },
            "header": {
             "fill": {
              "color": "#C8D4E3"
             },
             "line": {
              "color": "white"
             }
            },
            "type": "table"
           }
          ]
         },
         "layout": {
          "annotationdefaults": {
           "arrowcolor": "#2a3f5f",
           "arrowhead": 0,
           "arrowwidth": 1
          },
          "autotypenumbers": "strict",
          "coloraxis": {
           "colorbar": {
            "outlinewidth": 0,
            "ticks": ""
           }
          },
          "colorscale": {
           "diverging": [
            [
             0,
             "#8e0152"
            ],
            [
             0.1,
             "#c51b7d"
            ],
            [
             0.2,
             "#de77ae"
            ],
            [
             0.3,
             "#f1b6da"
            ],
            [
             0.4,
             "#fde0ef"
            ],
            [
             0.5,
             "#f7f7f7"
            ],
            [
             0.6,
             "#e6f5d0"
            ],
            [
             0.7,
             "#b8e186"
            ],
            [
             0.8,
             "#7fbc41"
            ],
            [
             0.9,
             "#4d9221"
            ],
            [
             1,
             "#276419"
            ]
           ],
           "sequential": [
            [
             0,
             "#0d0887"
            ],
            [
             0.1111111111111111,
             "#46039f"
            ],
            [
             0.2222222222222222,
             "#7201a8"
            ],
            [
             0.3333333333333333,
             "#9c179e"
            ],
            [
             0.4444444444444444,
             "#bd3786"
            ],
            [
             0.5555555555555556,
             "#d8576b"
            ],
            [
             0.6666666666666666,
             "#ed7953"
            ],
            [
             0.7777777777777778,
             "#fb9f3a"
            ],
            [
             0.8888888888888888,
             "#fdca26"
            ],
            [
             1,
             "#f0f921"
            ]
           ],
           "sequentialminus": [
            [
             0,
             "#0d0887"
            ],
            [
             0.1111111111111111,
             "#46039f"
            ],
            [
             0.2222222222222222,
             "#7201a8"
            ],
            [
             0.3333333333333333,
             "#9c179e"
            ],
            [
             0.4444444444444444,
             "#bd3786"
            ],
            [
             0.5555555555555556,
             "#d8576b"
            ],
            [
             0.6666666666666666,
             "#ed7953"
            ],
            [
             0.7777777777777778,
             "#fb9f3a"
            ],
            [
             0.8888888888888888,
             "#fdca26"
            ],
            [
             1,
             "#f0f921"
            ]
           ]
          },
          "colorway": [
           "#636efa",
           "#EF553B",
           "#00cc96",
           "#ab63fa",
           "#FFA15A",
           "#19d3f3",
           "#FF6692",
           "#B6E880",
           "#FF97FF",
           "#FECB52"
          ],
          "font": {
           "color": "#2a3f5f"
          },
          "geo": {
           "bgcolor": "white",
           "lakecolor": "white",
           "landcolor": "#E5ECF6",
           "showlakes": true,
           "showland": true,
           "subunitcolor": "white"
          },
          "hoverlabel": {
           "align": "left"
          },
          "hovermode": "closest",
          "mapbox": {
           "style": "light"
          },
          "paper_bgcolor": "white",
          "plot_bgcolor": "#E5ECF6",
          "polar": {
           "angularaxis": {
            "gridcolor": "white",
            "linecolor": "white",
            "ticks": ""
           },
           "bgcolor": "#E5ECF6",
           "radialaxis": {
            "gridcolor": "white",
            "linecolor": "white",
            "ticks": ""
           }
          },
          "scene": {
           "xaxis": {
            "backgroundcolor": "#E5ECF6",
            "gridcolor": "white",
            "gridwidth": 2,
            "linecolor": "white",
            "showbackground": true,
            "ticks": "",
            "zerolinecolor": "white"
           },
           "yaxis": {
            "backgroundcolor": "#E5ECF6",
            "gridcolor": "white",
            "gridwidth": 2,
            "linecolor": "white",
            "showbackground": true,
            "ticks": "",
            "zerolinecolor": "white"
           },
           "zaxis": {
            "backgroundcolor": "#E5ECF6",
            "gridcolor": "white",
            "gridwidth": 2,
            "linecolor": "white",
            "showbackground": true,
            "ticks": "",
            "zerolinecolor": "white"
           }
          },
          "shapedefaults": {
           "line": {
            "color": "#2a3f5f"
           }
          },
          "ternary": {
           "aaxis": {
            "gridcolor": "white",
            "linecolor": "white",
            "ticks": ""
           },
           "baxis": {
            "gridcolor": "white",
            "linecolor": "white",
            "ticks": ""
           },
           "bgcolor": "#E5ECF6",
           "caxis": {
            "gridcolor": "white",
            "linecolor": "white",
            "ticks": ""
           }
          },
          "title": {
           "x": 0.05
          },
          "xaxis": {
           "automargin": true,
           "gridcolor": "white",
           "linecolor": "white",
           "ticks": "",
           "title": {
            "standoff": 15
           },
           "zerolinecolor": "white",
           "zerolinewidth": 2
          },
          "yaxis": {
           "automargin": true,
           "gridcolor": "white",
           "linecolor": "white",
           "ticks": "",
           "title": {
            "standoff": 15
           },
           "zerolinecolor": "white",
           "zerolinewidth": 2
          }
         }
        },
        "title": {
         "text": "Соотношение продаж в США и остальном мире"
        }
       }
      }
     },
     "metadata": {},
     "output_type": "display_data"
    }
   ],
   "source": [
    "with connect_to('postgres') as pg:\n",
    "    df = pd.read_sql(query, pg)\n",
    "    fig = px.pie(df, names='region', values='total_sales',\\\n",
    "                  title='Соотношение продаж в США и остальном мире')\n",
    "    fig.show()"
   ]
  },
  {
   "cell_type": "code",
   "execution_count": null,
   "id": "f0ea1cc7",
   "metadata": {},
   "outputs": [],
   "source": []
  }
 ],
 "metadata": {
  "kernelspec": {
   "display_name": ".venv",
   "language": "python",
   "name": "python3"
  },
  "language_info": {
   "codemirror_mode": {
    "name": "ipython",
    "version": 3
   },
   "file_extension": ".py",
   "mimetype": "text/x-python",
   "name": "python",
   "nbconvert_exporter": "python",
   "pygments_lexer": "ipython3",
   "version": "3.10.12"
  }
 },
 "nbformat": 4,
 "nbformat_minor": 5
}
